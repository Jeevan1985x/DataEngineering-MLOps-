{
 "cells": [
  {
   "cell_type": "markdown",
   "metadata": {},
   "source": [
    "## Task 2: Tune a model\n",
    "\n",
    "A data scientist's typical machine learning (ML) process is composed of five major steps: preparing the data, training the model, tuning the model, deploying the model to an endpoint, and evaluating the model in production to retrain as needed. In the previous labs, you completed the data preparation and model training steps. In this lab, you complete model tuning. You can complete each of these steps in SageMaker Studio with access to powerful Jupyter notebook instances, built-in algorithms, model training, and model deployment within the service. \n",
    "\n",
    "During the training and tuning portions of the process, you typically work with data and feed it into a model where you evaluate the model’s prediction against the expected result. You keep a portion of your input data, the testing data, away from the training and validation data used to train and tune the model. In the next lab, you use the testing data to examine the behavior of your model on data it has never seen. For this lab, you use the training and validation data to tune your model. You tune the model by adjusting your hyperparameter configurations. The goal of these adjustments is to incrementally improve your output metrics.\n",
    "\n",
    "Amazon SageMaker provides automatic model tuning, also known as hyperparameter tuning, to find the best version of a model in an efficient manner. SageMaker hyperparameter tuning runs many training jobs on a dataset by using the specified algorithm and hyperparameter ranges. It then chooses the hyperparameter values that result in the best performing model, as determined by your chosen metric. You specify an ML model to tune, your objective metric, and the hyperparameters to use, And SageMaker hyperparameter tuning finds the best version of the model in a cost-effective way."
   ]
  },
  {
   "cell_type": "markdown",
   "metadata": {},
   "source": [
    "### Task 2.1: Set up the environment\n",
    "\n",
    "Before you start tuning your model, install any necessary dependencies."
   ]
  },
  {
   "cell_type": "code",
   "execution_count": 1,
   "metadata": {
    "tags": []
   },
   "outputs": [
    {
     "name": "stdout",
     "output_type": "stream",
     "text": [
      "Requirement already satisfied: matplotlib in /opt/conda/lib/python3.12/site-packages (3.10.1)\n",
      "Requirement already satisfied: contourpy>=1.0.1 in /opt/conda/lib/python3.12/site-packages (from matplotlib) (1.3.1)\n",
      "Requirement already satisfied: cycler>=0.10 in /opt/conda/lib/python3.12/site-packages (from matplotlib) (0.12.1)\n",
      "Requirement already satisfied: fonttools>=4.22.0 in /opt/conda/lib/python3.12/site-packages (from matplotlib) (4.56.0)\n",
      "Requirement already satisfied: kiwisolver>=1.3.1 in /opt/conda/lib/python3.12/site-packages (from matplotlib) (1.4.8)\n",
      "Requirement already satisfied: numpy>=1.23 in /opt/conda/lib/python3.12/site-packages (from matplotlib) (1.26.4)\n",
      "Requirement already satisfied: packaging>=20.0 in /opt/conda/lib/python3.12/site-packages (from matplotlib) (24.2)\n",
      "Requirement already satisfied: pillow>=8 in /opt/conda/lib/python3.12/site-packages (from matplotlib) (11.1.0)\n",
      "Requirement already satisfied: pyparsing>=2.3.1 in /opt/conda/lib/python3.12/site-packages (from matplotlib) (3.2.1)\n",
      "Requirement already satisfied: python-dateutil>=2.7 in /opt/conda/lib/python3.12/site-packages (from matplotlib) (2.9.0.post0)\n",
      "Requirement already satisfied: six>=1.5 in /opt/conda/lib/python3.12/site-packages (from python-dateutil>=2.7->matplotlib) (1.17.0)\n",
      "Note: you may need to restart the kernel to use updated packages.\n",
      "\u001b[33mWARNING: Skipping bokeh as it is not installed.\u001b[0m\u001b[33m\n",
      "\u001b[0mNote: you may need to restart the kernel to use updated packages.\n",
      "Collecting bokeh==2.4.2\n",
      "  Downloading bokeh-2.4.2-py3-none-any.whl.metadata (14 kB)\n",
      "Requirement already satisfied: Jinja2>=2.9 in /opt/conda/lib/python3.12/site-packages (from bokeh==2.4.2) (3.1.6)\n",
      "Requirement already satisfied: numpy>=1.11.3 in /opt/conda/lib/python3.12/site-packages (from bokeh==2.4.2) (1.26.4)\n",
      "Requirement already satisfied: packaging>=16.8 in /opt/conda/lib/python3.12/site-packages (from bokeh==2.4.2) (24.2)\n",
      "Requirement already satisfied: pillow>=7.1.0 in /opt/conda/lib/python3.12/site-packages (from bokeh==2.4.2) (11.1.0)\n",
      "Requirement already satisfied: PyYAML>=3.10 in /opt/conda/lib/python3.12/site-packages (from bokeh==2.4.2) (6.0.2)\n",
      "Requirement already satisfied: tornado>=5.1 in /opt/conda/lib/python3.12/site-packages (from bokeh==2.4.2) (6.4.2)\n",
      "Requirement already satisfied: typing-extensions>=3.10.0 in /opt/conda/lib/python3.12/site-packages (from bokeh==2.4.2) (4.12.2)\n",
      "Requirement already satisfied: MarkupSafe>=2.0 in /opt/conda/lib/python3.12/site-packages (from Jinja2>=2.9->bokeh==2.4.2) (3.0.2)\n",
      "Downloading bokeh-2.4.2-py3-none-any.whl (18.5 MB)\n",
      "\u001b[2K   \u001b[90m━━━━━━━━━━━━━━━━━━━━━━━━━━━━━━━━━━━━━━━━\u001b[0m \u001b[32m18.5/18.5 MB\u001b[0m \u001b[31m49.5 MB/s\u001b[0m eta \u001b[36m0:00:00\u001b[0m \u001b[36m0:00:01\u001b[0m\n",
      "\u001b[?25hInstalling collected packages: bokeh\n",
      "Successfully installed bokeh-2.4.2\n",
      "Note: you may need to restart the kernel to use updated packages.\n"
     ]
    },
    {
     "name": "stderr",
     "output_type": "stream",
     "text": [
      "/opt/conda/lib/python3.12/site-packages/pydantic/_internal/_fields.py:192: UserWarning: Field name \"json\" in \"MonitoringDatasetFormat\" shadows an attribute in parent \"Base\"\n",
      "  warnings.warn(\n"
     ]
    },
    {
     "name": "stdout",
     "output_type": "stream",
     "text": [
      "sagemaker.config INFO - Not applying SDK defaults from location: /etc/xdg/sagemaker/config.yaml\n",
      "sagemaker.config INFO - Not applying SDK defaults from location: /home/sagemaker-user/.config/sagemaker/config.yaml\n"
     ]
    }
   ],
   "source": [
    "#Install matplotlib and restart kernel\n",
    "%pip install matplotlib\n",
    "%pip uninstall bokeh -y\n",
    "%pip install bokeh==2.4.2\n",
    "%reset -f\n",
    "\n",
    "# Install dependencies \n",
    "import boto3\n",
    "import numpy as np\n",
    "import pandas as pd\n",
    "import sagemaker\n",
    "import bokeh\n",
    "import bokeh.io\n",
    "\n",
    "from sagemaker.inputs import TrainingInput\n",
    "from pprint import pprint\n",
    "from sagemaker import image_uris\n",
    "from sagemaker.session import Session\n",
    "from sagemaker.tuner import IntegerParameter, CategoricalParameter, ContinuousParameter, HyperparameterTuner\n",
    "from sagemaker.xgboost.estimator import XGBoost\n",
    "from time import strftime\n",
    "from bokeh.models import HoverTool\n",
    "from bokeh.plotting import figure, show\n",
    "\n",
    "sagemaker_session = sagemaker.Session()\n",
    "role = sagemaker.get_execution_role()\n",
    "region = boto3.Session().region_name\n",
    "sess = boto3.Session()\n",
    "sm = sess.client('sagemaker')"
   ]
  },
  {
   "cell_type": "markdown",
   "metadata": {},
   "source": [
    "Next, import the dataset."
   ]
  },
  {
   "cell_type": "code",
   "execution_count": 2,
   "metadata": {
    "tags": []
   },
   "outputs": [
    {
     "name": "stdout",
     "output_type": "stream",
     "text": [
      "Bucket:  labdatabucket-us-west-2-545022455\n",
      "Training path: s3://labdatabucket-us-west-2-545022455/scripts/data/train/adult_data_processed_train.csv\n",
      "Validation path: s3://labdatabucket-us-west-2-545022455/scripts/data/validation/adult_data_processed_validation.csv\n"
     ]
    },
    {
     "data": {
      "text/html": [
       "<pre style=\"white-space:pre;overflow-x:auto;line-height:normal;font-family:Menlo,'DejaVu Sans Mono',consolas,'Courier New',monospace\"><span style=\"color: #7fbfbf; text-decoration-color: #7fbfbf\">[04/21/25 13:02:47] </span><span style=\"color: #0069ff; text-decoration-color: #0069ff; font-weight: bold\">INFO    </span> Ignoring unnecessary instance type: <span style=\"color: #e100e1; text-decoration-color: #e100e1; font-style: italic\">None</span>.                            <a href=\"file:///opt/conda/lib/python3.12/site-packages/sagemaker/image_uris.py\" target=\"_blank\"><span style=\"color: #7f7f7f; text-decoration-color: #7f7f7f\">image_uris.py</span></a><span style=\"color: #7f7f7f; text-decoration-color: #7f7f7f\">:</span><a href=\"file:///opt/conda/lib/python3.12/site-packages/sagemaker/image_uris.py#530\" target=\"_blank\"><span style=\"color: #7f7f7f; text-decoration-color: #7f7f7f\">530</span></a>\n",
       "</pre>\n"
      ],
      "text/plain": [
       "\u001b[2;36m[04/21/25 13:02:47]\u001b[0m\u001b[2;36m \u001b[0m\u001b[1;38;2;0;105;255mINFO    \u001b[0m Ignoring unnecessary instance type: \u001b[3;38;2;225;0;225mNone\u001b[0m.                            \u001b]8;id=996476;file:///opt/conda/lib/python3.12/site-packages/sagemaker/image_uris.py\u001b\\\u001b[2mimage_uris.py\u001b[0m\u001b]8;;\u001b\\\u001b[2m:\u001b[0m\u001b]8;id=267343;file:///opt/conda/lib/python3.12/site-packages/sagemaker/image_uris.py#530\u001b\\\u001b[2m530\u001b[0m\u001b]8;;\u001b\\\n"
      ]
     },
     "metadata": {},
     "output_type": "display_data"
    }
   ],
   "source": [
    "# Import the dataset \n",
    "s3 = boto3.resource('s3')\n",
    "for buckets in s3.buckets.all():\n",
    "    if 'labdatabucket' in buckets.name:\n",
    "        bucket = buckets.name\n",
    "print(\"Bucket: \", bucket)\n",
    "prefix = 'scripts/data'\n",
    "output_path = 's3://{}/{}/output'.format(bucket, prefix)\n",
    "\n",
    "train_path = f\"s3://{bucket}/{prefix}/train/adult_data_processed_train.csv\"\n",
    "validation_path = f\"s3://{bucket}/{prefix}/validation/adult_data_processed_validation.csv\"\n",
    "\n",
    "train_input = TrainingInput(train_path, content_type='text/csv')\n",
    "validation_input = TrainingInput(validation_path, content_type='text/csv')\n",
    "\n",
    "print(f'Training path: {train_path}')\n",
    "print(f'Validation path: {validation_path}')\n",
    "\n",
    "create_date = strftime(\"%m%d%H%M\")\n",
    "container = image_uris.retrieve(framework='xgboost',region=boto3.Session().region_name,version='1.2-1')\n",
    "run_name = 'lab-3-run-{}'.format(create_date)\n",
    "run_tags = [{'Key': 'lab-3', 'Value': 'lab-3-run'}]\n",
    "job_name = 'lab-3-job-{}'.format(create_date)"
   ]
  },
  {
   "cell_type": "markdown",
   "metadata": {},
   "source": [
    "You have successfully imported the libraries and data you need to start training a model."
   ]
  },
  {
   "cell_type": "markdown",
   "metadata": {},
   "source": [
    "### Task 2.2: Configure an estimator object\n",
    "\n",
    "In this task, you configure an estimator object that is identical to the one that you used in the previous lab. For a tuning job, the key difference is how you configure the hyperparameters."
   ]
  },
  {
   "cell_type": "code",
   "execution_count": 3,
   "metadata": {},
   "outputs": [],
   "source": [
    "xgb_model = sagemaker.estimator.Estimator(\n",
    "    container,\n",
    "    role, \n",
    "    instance_count = 1, \n",
    "    instance_type ='ml.m5.xlarge',\n",
    "    output_path = output_path,\n",
    "    sagemaker_session = sagemaker_session,\n",
    "    EnableSageMakerMetricsTimeSeries = True,\n",
    "    tags = run_tags\n",
    ")"
   ]
  },
  {
   "cell_type": "markdown",
   "metadata": {},
   "source": [
    "You have successfully configured an estimator object."
   ]
  },
  {
   "cell_type": "markdown",
   "metadata": {},
   "source": [
    "### Task 2.3: Configure a hyperparameter tuner\n",
    "\n",
    "Selecting the right hyperparameter values for a machine learning model can be difficult. The correct answer depends on the algorithm and the data. Some algorithms have many tuneable hyperparameters. Some are very sensitive to the hyperparameter values selected. And yet most have a nonlinear relationship between model fit and hyperparameter values. Amazon SageMaker automatic model tuning helps by automating the hyperparameter tuning process.\n",
    "\n",
    "To use SageMaker automatic model tuning, you specify a range, or a list of possible values, for each hyperparameter that you choose to tune. SageMaker automatic model tuning runs multiple training jobs with various hyperparameter settings. It then evaluates the results of each job based on a specified objective metric and selects the hyperparameter settings for future attempts based on previous results. For each tuning job, you specify a maximum number of training jobs, and the tuning completes when that number has been reached.\n",
    "\n",
    "Refer to [Perform Automatic Model Tuning with SageMaker](https://docs.aws.amazon.com/sagemaker/latest/dg/automatic-model-tuning.html) for more information about automatic model tuning. \n",
    "\n",
    "The hyperparameter ranges that you need set are as follows:\n",
    "- **alpha**: L1 regularization term on weights. Increasing this value makes models less complex by reducing possible overfitting. The trade-off is that models are less sensitive to the class of interest and less fit to your training dataset.\n",
    "- **eta**: Step size shrinkage used in updates to prevent overfitting. After each boosting step, you can directly get the weights of new features. The eta parameter actually shrinks the feature weights to make the boosting process more conservative.\n",
    "- **max_depth**: Maximum depth of a tree. Increasing the depth might result in overfitting and decreasing the depth might result in underfitting.\n",
    "- **min_child_weight**: Minimum sum of instance weight needed in a child. If the tree partition step results in a leaf node with the sum of instance weight less than min_child_weight, the building process gives up further partitioning.\n",
    "- **num_round**: The number of rounds (trees) used for boosting. Increasing the trees can increase the model accuracy but increases the risk of overfitting.\n",
    "\n",
    "Refer to [XGBoost Hyperparameters](https://docs.aws.amazon.com/sagemaker/latest/dg/xgboost_hyperparameters.html) for more information about XGBoost hyperparameters."
   ]
  },
  {
   "cell_type": "code",
   "execution_count": 4,
   "metadata": {
    "tags": []
   },
   "outputs": [],
   "source": [
    "hyperparameter_ranges = {\n",
    "    'alpha': ContinuousParameter(0, 2),\n",
    "    'eta': ContinuousParameter(0, 1),\n",
    "    'max_depth': IntegerParameter(1, 10),\n",
    "    'min_child_weight': ContinuousParameter(1, 10),\n",
    "    'num_round': IntegerParameter(100, 1000)\n",
    "}"
   ]
  },
  {
   "cell_type": "markdown",
   "metadata": {},
   "source": [
    "An objective metric is the value that the hyperparameter tuner is focused on optimizing. In this case, you are trying to maximize the validation area under the curve (AUC). AUC measures the ability of the model to predict a higher score for positive examples as compared to negative examples. Because it is independent of the score cut-off, you can get a sense of the prediction accuracy of your model from the AUC metric without picking a threshold. The AUC metric returns a decimal value from 0 to 1. A model with AUC of 0.50 is no better than a coin flip because it represents random chance, whereas a \"perfect\" model will have a score of 1.0. The higher AUC, the better your model can distinguish between frauds and legitimates. Values near 0 are unusual to see, and typically indicate a problem with the data. "
   ]
  },
  {
   "cell_type": "code",
   "execution_count": 5,
   "metadata": {
    "tags": []
   },
   "outputs": [],
   "source": [
    "objective_metric_name = 'validation:auc'\n",
    "objective_type='Maximize'"
   ]
  },
  {
   "cell_type": "markdown",
   "metadata": {},
   "source": [
    "You use an estimator object to obtain configuration information for training jobs that are created as the result of a hyperparameter tuning job. The HyperparameterTuner parameters that you need are as follows:\n",
    "- **estimator**: An estimator object that has been initialized with the required configuration. There does not need to be a training job associated with this instance.\n",
    "- **objective_metric_name**: Name of the metric for evaluating training jobs.\n",
    "- **hyperparameter_ranges**: Dictionary of parameter ranges. These parameter ranges can be one of three types: Continuous, Integer, or Categorical. The keys of the dictionary are the names of the hyperparameter, and the values are the appropriate parameter range class to represent the range.\n",
    "- **objective_type**: The type of the objective metric for evaluating training jobs. This value can be either 'Minimize' or 'Maximize' (default: 'Maximize').\n",
    "- **max_jobs**: Maximum total number of training jobs to start for the hyperparameter tuning job. The default value is unspecified for the ‘Grid’ strategy, and the default value is 1 for all other strategies (default: None).\n",
    "- **max_parallel_jobs**: Maximum number of parallel training jobs to start (default: 1).\n",
    "- **early_stopping_type**: Specifies whether early stopping is enabled for the job. Can be either 'Auto' or 'Off' (default: 'Off'). If set to 'Off', early stopping will not be attempted. If set to 'Auto', early stopping of some training jobs might happen, but is not guaranteed to.\n",
    "\n",
    "In the following code, tell the tuner to run at most 12 experiments (max_jobs) and only four concurrent experiments at a time (max_parallel_jobs). Both of these parameters keep your cost and training time under control."
   ]
  },
  {
   "cell_type": "code",
   "execution_count": 6,
   "metadata": {},
   "outputs": [],
   "source": [
    "tuner = HyperparameterTuner(\n",
    "    estimator = xgb_model,\n",
    "    objective_metric_name = objective_metric_name,\n",
    "    hyperparameter_ranges = hyperparameter_ranges,\n",
    "    objective_type = objective_type,\n",
    "    max_jobs=12,\n",
    "    max_parallel_jobs=4,\n",
    "    early_stopping_type='Auto',\n",
    ")"
   ]
  },
  {
   "cell_type": "markdown",
   "metadata": {},
   "source": [
    "You have successfully configured a hyperparameter tuner."
   ]
  },
  {
   "cell_type": "markdown",
   "metadata": {},
   "source": [
    "### Task 2.4: Run a hyperparameter tuning job\n",
    "\n",
    "Now that you have configured your estimator object and hyperparameters, you are ready to start tuning the model. The fit() method starts the tuning script. The tuning takes approximately 5–6 minutes to run. To start model tuning, call the estimator's fit() method with the training and validation datasets. If you set `wait=True`, the fit() method displays progress logs and waits until training is complete."
   ]
  },
  {
   "cell_type": "code",
   "execution_count": 7,
   "metadata": {},
   "outputs": [
    {
     "data": {
      "text/html": [
       "<pre style=\"white-space:pre;overflow-x:auto;line-height:normal;font-family:Menlo,'DejaVu Sans Mono',consolas,'Courier New',monospace\"><span style=\"color: #7fbfbf; text-decoration-color: #7fbfbf\">[04/21/25 13:03:19] </span><span style=\"color: #d7af00; text-decoration-color: #d7af00; font-weight: bold\">WARNING </span> No finished training job found associated with this estimator.       <a href=\"file:///opt/conda/lib/python3.12/site-packages/sagemaker/estimator.py\" target=\"_blank\"><span style=\"color: #7f7f7f; text-decoration-color: #7f7f7f\">estimator.py</span></a><span style=\"color: #7f7f7f; text-decoration-color: #7f7f7f\">:</span><a href=\"file:///opt/conda/lib/python3.12/site-packages/sagemaker/estimator.py#1914\" target=\"_blank\"><span style=\"color: #7f7f7f; text-decoration-color: #7f7f7f\">1914</span></a>\n",
       "<span style=\"color: #7fbfbf; text-decoration-color: #7fbfbf\">                    </span>         Please make sure this estimator is only used for building workflow   <span style=\"color: #7f7f7f; text-decoration-color: #7f7f7f\">                 </span>\n",
       "<span style=\"color: #7fbfbf; text-decoration-color: #7fbfbf\">                    </span>         config                                                               <span style=\"color: #7f7f7f; text-decoration-color: #7f7f7f\">                 </span>\n",
       "</pre>\n"
      ],
      "text/plain": [
       "\u001b[2;36m[04/21/25 13:03:19]\u001b[0m\u001b[2;36m \u001b[0m\u001b[1;38;2;215;175;0mWARNING \u001b[0m No finished training job found associated with this estimator.       \u001b]8;id=552899;file:///opt/conda/lib/python3.12/site-packages/sagemaker/estimator.py\u001b\\\u001b[2mestimator.py\u001b[0m\u001b]8;;\u001b\\\u001b[2m:\u001b[0m\u001b]8;id=199320;file:///opt/conda/lib/python3.12/site-packages/sagemaker/estimator.py#1914\u001b\\\u001b[2m1914\u001b[0m\u001b]8;;\u001b\\\n",
       "\u001b[2;36m                    \u001b[0m         Please make sure this estimator is only used for building workflow   \u001b[2m                 \u001b[0m\n",
       "\u001b[2;36m                    \u001b[0m         config                                                               \u001b[2m                 \u001b[0m\n"
      ]
     },
     "metadata": {},
     "output_type": "display_data"
    },
    {
     "data": {
      "text/html": [
       "<pre style=\"white-space:pre;overflow-x:auto;line-height:normal;font-family:Menlo,'DejaVu Sans Mono',consolas,'Courier New',monospace\"><span style=\"color: #7fbfbf; text-decoration-color: #7fbfbf\">                    </span><span style=\"color: #0069ff; text-decoration-color: #0069ff; font-weight: bold\">INFO    </span> Creating hyperparameter tuning job with name: lab-<span style=\"color: #008080; text-decoration-color: #008080; font-weight: bold\">3</span>-job-<span style=\"color: #008080; text-decoration-color: #008080; font-weight: bold\">04211302</span>       <a href=\"file:///opt/conda/lib/python3.12/site-packages/sagemaker/session.py\" target=\"_blank\"><span style=\"color: #7f7f7f; text-decoration-color: #7f7f7f\">session.py</span></a><span style=\"color: #7f7f7f; text-decoration-color: #7f7f7f\">:</span><a href=\"file:///opt/conda/lib/python3.12/site-packages/sagemaker/session.py#3383\" target=\"_blank\"><span style=\"color: #7f7f7f; text-decoration-color: #7f7f7f\">3383</span></a>\n",
       "</pre>\n"
      ],
      "text/plain": [
       "\u001b[2;36m                   \u001b[0m\u001b[2;36m \u001b[0m\u001b[1;38;2;0;105;255mINFO    \u001b[0m Creating hyperparameter tuning job with name: lab-\u001b[1;36m3\u001b[0m-job-\u001b[1;36m04211302\u001b[0m       \u001b]8;id=663023;file:///opt/conda/lib/python3.12/site-packages/sagemaker/session.py\u001b\\\u001b[2msession.py\u001b[0m\u001b]8;;\u001b\\\u001b[2m:\u001b[0m\u001b]8;id=627912;file:///opt/conda/lib/python3.12/site-packages/sagemaker/session.py#3383\u001b\\\u001b[2m3383\u001b[0m\u001b]8;;\u001b\\\n"
      ]
     },
     "metadata": {},
     "output_type": "display_data"
    },
    {
     "name": "stdout",
     "output_type": "stream",
     "text": [
      "......................................................!\n"
     ]
    }
   ],
   "source": [
    "tuner.fit(\n",
    "    {\n",
    "        \"train\": train_input,\n",
    "        \"validation\": validation_input\n",
    "    },\n",
    "    job_name=job_name,\n",
    "    wait=True\n",
    ")"
   ]
  },
  {
   "cell_type": "markdown",
   "metadata": {
    "tags": []
   },
   "source": [
    "<i aria-hidden=\"true\" class=\"fas fa-clipboard-check\" style=\"color:#18ab4b\"></i> **Expected output:** If the estimator and hyperparameter ranges configuration are correct and the tuning job is started correctly, you should see the following output:\n",
    "\n",
    "```plain\n",
    "************************\n",
    "**** EXAMPLE OUTPUT ****\n",
    "************************\n",
    "No finished training job found associated with this estimator. Please make sure this estimator is only used for building workflow config\n",
    "......................................................................!\n",
    "```\n",
    "\n",
    "<i aria-hidden=\"true\" class=\"fas fa-sticky-note\" style=\"color:#563377\"></i> **Note:** The \"*No finished training job found associated with this estimator*\" warning is expected. This message comes from the SDK and it is to warn you that the model data of the estimator is being referenced, but that the estimator has not been run yet.\n",
    "\n",
    "You have successfully run a hyperparameter tuning job."
   ]
  },
  {
   "cell_type": "markdown",
   "metadata": {},
   "source": [
    "### Task 2.5: Evaluate the models and select one as a candidate for deployment\n",
    "\n",
    "After you launch a tuning job, you can see its progress by calling the *describe_tuning_job* API. The output from *describe-tuning-job* is a JSON object that contains information about the current state of the tuning job. You can call *list_training_jobs_for_tuning_job* to see a detailed list of the training jobs that the tuning job launched."
   ]
  },
  {
   "cell_type": "code",
   "execution_count": 8,
   "metadata": {
    "tags": []
   },
   "outputs": [
    {
     "name": "stdout",
     "output_type": "stream",
     "text": [
      "8 training jobs have completed\n"
     ]
    }
   ],
   "source": [
    "# Print the number of completed tuning jobs\n",
    "tuning_job_result = sm.describe_hyper_parameter_tuning_job(\n",
    "    HyperParameterTuningJobName=job_name\n",
    ")\n",
    "\n",
    "status = tuning_job_result[\"HyperParameterTuningJobStatus\"]\n",
    "if status != \"Completed\":\n",
    "    print(\"Reminder: the tuning job has not been completed.\")\n",
    "\n",
    "job_count = tuning_job_result[\"TrainingJobStatusCounters\"][\"Completed\"]\n",
    "print(\"%d training jobs have completed\" % job_count)\n",
    "\n",
    "objective = tuning_job_result[\"HyperParameterTuningJobConfig\"][\"HyperParameterTuningJobObjective\"]\n",
    "is_minimize = objective[\"Type\"] != \"Maximize\"\n",
    "objective_name = objective[\"MetricName\"]"
   ]
  },
  {
   "cell_type": "code",
   "execution_count": 9,
   "metadata": {
    "tags": []
   },
   "outputs": [
    {
     "name": "stdout",
     "output_type": "stream",
     "text": [
      "Best model found so far:\n",
      "{'CreationTime': datetime.datetime(2025, 4, 21, 13, 6, 10, tzinfo=tzlocal()),\n",
      " 'FinalHyperParameterTuningJobObjectiveMetric': {'MetricName': 'validation:auc',\n",
      "                                                 'Value': 0.9198099970817566},\n",
      " 'ObjectiveStatus': 'Succeeded',\n",
      " 'TrainingEndTime': datetime.datetime(2025, 4, 21, 13, 6, 53, tzinfo=tzlocal()),\n",
      " 'TrainingJobArn': 'arn:aws:sagemaker:us-west-2:456938221590:training-job/lab-3-job-04211302-007-dfb390b1',\n",
      " 'TrainingJobName': 'lab-3-job-04211302-007-dfb390b1',\n",
      " 'TrainingJobStatus': 'Completed',\n",
      " 'TrainingStartTime': datetime.datetime(2025, 4, 21, 13, 6, 14, tzinfo=tzlocal()),\n",
      " 'TunedHyperParameters': {'alpha': '0.09884944250910954',\n",
      "                          'eta': '0.36057580384812604',\n",
      "                          'max_depth': '2',\n",
      "                          'min_child_weight': '1.9352716507829695',\n",
      "                          'num_round': '506'}}\n"
     ]
    }
   ],
   "source": [
    "# Get the best training job\n",
    "if tuning_job_result.get(\"BestTrainingJob\", None):\n",
    "    print(\"Best model found so far:\")\n",
    "    pprint(tuning_job_result[\"BestTrainingJob\"])\n",
    "else:\n",
    "    print(\"No training jobs have reported results yet.\")"
   ]
  },
  {
   "cell_type": "markdown",
   "metadata": {},
   "source": [
    "You can list hyperparameters and objective metrics of all training jobs and pick up the training job with the best objective metric."
   ]
  },
  {
   "cell_type": "code",
   "execution_count": 10,
   "metadata": {
    "tags": []
   },
   "outputs": [
    {
     "name": "stdout",
     "output_type": "stream",
     "text": [
      "Number of training jobs with valid objective: 12\n",
      "{'lowest': 0.5, 'highest': 0.9198099970817566}\n"
     ]
    },
    {
     "data": {
      "text/html": [
       "<div>\n",
       "<style scoped>\n",
       "    .dataframe tbody tr th:only-of-type {\n",
       "        vertical-align: middle;\n",
       "    }\n",
       "\n",
       "    .dataframe tbody tr th {\n",
       "        vertical-align: top;\n",
       "    }\n",
       "\n",
       "    .dataframe thead th {\n",
       "        text-align: right;\n",
       "    }\n",
       "</style>\n",
       "<table border=\"1\" class=\"dataframe\">\n",
       "  <thead>\n",
       "    <tr style=\"text-align: right;\">\n",
       "      <th></th>\n",
       "      <th>alpha</th>\n",
       "      <th>eta</th>\n",
       "      <th>max_depth</th>\n",
       "      <th>min_child_weight</th>\n",
       "      <th>num_round</th>\n",
       "      <th>TrainingJobName</th>\n",
       "      <th>TrainingJobStatus</th>\n",
       "      <th>FinalObjectiveValue</th>\n",
       "      <th>TrainingStartTime</th>\n",
       "      <th>TrainingEndTime</th>\n",
       "      <th>TrainingElapsedTimeSeconds</th>\n",
       "    </tr>\n",
       "  </thead>\n",
       "  <tbody>\n",
       "    <tr>\n",
       "      <th>5</th>\n",
       "      <td>0.098849</td>\n",
       "      <td>3.605758e-01</td>\n",
       "      <td>2.0</td>\n",
       "      <td>1.935272</td>\n",
       "      <td>506.0</td>\n",
       "      <td>lab-3-job-04211302-007-dfb390b1</td>\n",
       "      <td>Completed</td>\n",
       "      <td>0.91981</td>\n",
       "      <td>2025-04-21 13:06:14+00:00</td>\n",
       "      <td>2025-04-21 13:06:53+00:00</td>\n",
       "      <td>39.0</td>\n",
       "    </tr>\n",
       "    <tr>\n",
       "      <th>4</th>\n",
       "      <td>0.595835</td>\n",
       "      <td>1.027631e-01</td>\n",
       "      <td>6.0</td>\n",
       "      <td>2.955053</td>\n",
       "      <td>401.0</td>\n",
       "      <td>lab-3-job-04211302-008-355d579b</td>\n",
       "      <td>Stopped</td>\n",
       "      <td>0.91681</td>\n",
       "      <td>2025-04-21 13:06:27+00:00</td>\n",
       "      <td>2025-04-21 13:06:58+00:00</td>\n",
       "      <td>31.0</td>\n",
       "    </tr>\n",
       "    <tr>\n",
       "      <th>9</th>\n",
       "      <td>0.403326</td>\n",
       "      <td>6.134075e-02</td>\n",
       "      <td>6.0</td>\n",
       "      <td>2.498098</td>\n",
       "      <td>761.0</td>\n",
       "      <td>lab-3-job-04211302-003-fe9ded4f</td>\n",
       "      <td>Stopped</td>\n",
       "      <td>0.91412</td>\n",
       "      <td>2025-04-21 13:04:03+00:00</td>\n",
       "      <td>2025-04-21 13:05:56+00:00</td>\n",
       "      <td>113.0</td>\n",
       "    </tr>\n",
       "    <tr>\n",
       "      <th>10</th>\n",
       "      <td>1.869521</td>\n",
       "      <td>5.055850e-01</td>\n",
       "      <td>1.0</td>\n",
       "      <td>3.748675</td>\n",
       "      <td>416.0</td>\n",
       "      <td>lab-3-job-04211302-002-62b93a40</td>\n",
       "      <td>Completed</td>\n",
       "      <td>0.90829</td>\n",
       "      <td>2025-04-21 13:04:02+00:00</td>\n",
       "      <td>2025-04-21 13:05:46+00:00</td>\n",
       "      <td>104.0</td>\n",
       "    </tr>\n",
       "    <tr>\n",
       "      <th>2</th>\n",
       "      <td>1.437782</td>\n",
       "      <td>2.826593e-01</td>\n",
       "      <td>6.0</td>\n",
       "      <td>7.505319</td>\n",
       "      <td>417.0</td>\n",
       "      <td>lab-3-job-04211302-010-79cd83c8</td>\n",
       "      <td>Completed</td>\n",
       "      <td>0.90614</td>\n",
       "      <td>2025-04-21 13:07:12+00:00</td>\n",
       "      <td>2025-04-21 13:07:51+00:00</td>\n",
       "      <td>39.0</td>\n",
       "    </tr>\n",
       "    <tr>\n",
       "      <th>3</th>\n",
       "      <td>0.729641</td>\n",
       "      <td>6.064024e-01</td>\n",
       "      <td>6.0</td>\n",
       "      <td>3.268158</td>\n",
       "      <td>204.0</td>\n",
       "      <td>lab-3-job-04211302-009-43727dc5</td>\n",
       "      <td>Completed</td>\n",
       "      <td>0.89148</td>\n",
       "      <td>2025-04-21 13:07:01+00:00</td>\n",
       "      <td>2025-04-21 13:07:35+00:00</td>\n",
       "      <td>34.0</td>\n",
       "    </tr>\n",
       "    <tr>\n",
       "      <th>11</th>\n",
       "      <td>1.776487</td>\n",
       "      <td>6.370456e-01</td>\n",
       "      <td>9.0</td>\n",
       "      <td>5.482653</td>\n",
       "      <td>394.0</td>\n",
       "      <td>lab-3-job-04211302-001-4b9cc9f7</td>\n",
       "      <td>Completed</td>\n",
       "      <td>0.88890</td>\n",
       "      <td>2025-04-21 13:04:00+00:00</td>\n",
       "      <td>2025-04-21 13:05:44+00:00</td>\n",
       "      <td>104.0</td>\n",
       "    </tr>\n",
       "    <tr>\n",
       "      <th>1</th>\n",
       "      <td>2.000000</td>\n",
       "      <td>1.000000e+00</td>\n",
       "      <td>6.0</td>\n",
       "      <td>2.289012</td>\n",
       "      <td>630.0</td>\n",
       "      <td>lab-3-job-04211302-011-9723d39c</td>\n",
       "      <td>Stopped</td>\n",
       "      <td>0.88541</td>\n",
       "      <td>2025-04-21 13:07:15+00:00</td>\n",
       "      <td>2025-04-21 13:07:58+00:00</td>\n",
       "      <td>43.0</td>\n",
       "    </tr>\n",
       "    <tr>\n",
       "      <th>8</th>\n",
       "      <td>0.741501</td>\n",
       "      <td>1.477106e-01</td>\n",
       "      <td>10.0</td>\n",
       "      <td>2.945973</td>\n",
       "      <td>893.0</td>\n",
       "      <td>lab-3-job-04211302-004-fadc1a15</td>\n",
       "      <td>Completed</td>\n",
       "      <td>0.88103</td>\n",
       "      <td>2025-04-21 13:04:14+00:00</td>\n",
       "      <td>2025-04-21 13:06:13+00:00</td>\n",
       "      <td>119.0</td>\n",
       "    </tr>\n",
       "    <tr>\n",
       "      <th>6</th>\n",
       "      <td>0.309124</td>\n",
       "      <td>7.571507e-01</td>\n",
       "      <td>8.0</td>\n",
       "      <td>1.432990</td>\n",
       "      <td>177.0</td>\n",
       "      <td>lab-3-job-04211302-006-cc1e0ccf</td>\n",
       "      <td>Completed</td>\n",
       "      <td>0.85754</td>\n",
       "      <td>2025-04-21 13:06:12+00:00</td>\n",
       "      <td>2025-04-21 13:06:46+00:00</td>\n",
       "      <td>34.0</td>\n",
       "    </tr>\n",
       "    <tr>\n",
       "      <th>7</th>\n",
       "      <td>0.125319</td>\n",
       "      <td>4.201265e-01</td>\n",
       "      <td>8.0</td>\n",
       "      <td>7.767380</td>\n",
       "      <td>587.0</td>\n",
       "      <td>lab-3-job-04211302-005-10d0017a</td>\n",
       "      <td>Stopped</td>\n",
       "      <td>0.84928</td>\n",
       "      <td>2025-04-21 13:06:12+00:00</td>\n",
       "      <td>2025-04-21 13:06:58+00:00</td>\n",
       "      <td>46.0</td>\n",
       "    </tr>\n",
       "    <tr>\n",
       "      <th>0</th>\n",
       "      <td>2.000000</td>\n",
       "      <td>5.551115e-17</td>\n",
       "      <td>6.0</td>\n",
       "      <td>6.505693</td>\n",
       "      <td>133.0</td>\n",
       "      <td>lab-3-job-04211302-012-eb5d720a</td>\n",
       "      <td>Completed</td>\n",
       "      <td>0.50000</td>\n",
       "      <td>2025-04-21 13:07:16+00:00</td>\n",
       "      <td>2025-04-21 13:07:55+00:00</td>\n",
       "      <td>39.0</td>\n",
       "    </tr>\n",
       "  </tbody>\n",
       "</table>\n",
       "</div>"
      ],
      "text/plain": [
       "       alpha           eta  max_depth  min_child_weight  num_round  \\\n",
       "5   0.098849  3.605758e-01        2.0          1.935272      506.0   \n",
       "4   0.595835  1.027631e-01        6.0          2.955053      401.0   \n",
       "9   0.403326  6.134075e-02        6.0          2.498098      761.0   \n",
       "10  1.869521  5.055850e-01        1.0          3.748675      416.0   \n",
       "2   1.437782  2.826593e-01        6.0          7.505319      417.0   \n",
       "3   0.729641  6.064024e-01        6.0          3.268158      204.0   \n",
       "11  1.776487  6.370456e-01        9.0          5.482653      394.0   \n",
       "1   2.000000  1.000000e+00        6.0          2.289012      630.0   \n",
       "8   0.741501  1.477106e-01       10.0          2.945973      893.0   \n",
       "6   0.309124  7.571507e-01        8.0          1.432990      177.0   \n",
       "7   0.125319  4.201265e-01        8.0          7.767380      587.0   \n",
       "0   2.000000  5.551115e-17        6.0          6.505693      133.0   \n",
       "\n",
       "                    TrainingJobName TrainingJobStatus  FinalObjectiveValue  \\\n",
       "5   lab-3-job-04211302-007-dfb390b1         Completed              0.91981   \n",
       "4   lab-3-job-04211302-008-355d579b           Stopped              0.91681   \n",
       "9   lab-3-job-04211302-003-fe9ded4f           Stopped              0.91412   \n",
       "10  lab-3-job-04211302-002-62b93a40         Completed              0.90829   \n",
       "2   lab-3-job-04211302-010-79cd83c8         Completed              0.90614   \n",
       "3   lab-3-job-04211302-009-43727dc5         Completed              0.89148   \n",
       "11  lab-3-job-04211302-001-4b9cc9f7         Completed              0.88890   \n",
       "1   lab-3-job-04211302-011-9723d39c           Stopped              0.88541   \n",
       "8   lab-3-job-04211302-004-fadc1a15         Completed              0.88103   \n",
       "6   lab-3-job-04211302-006-cc1e0ccf         Completed              0.85754   \n",
       "7   lab-3-job-04211302-005-10d0017a           Stopped              0.84928   \n",
       "0   lab-3-job-04211302-012-eb5d720a         Completed              0.50000   \n",
       "\n",
       "           TrainingStartTime           TrainingEndTime  \\\n",
       "5  2025-04-21 13:06:14+00:00 2025-04-21 13:06:53+00:00   \n",
       "4  2025-04-21 13:06:27+00:00 2025-04-21 13:06:58+00:00   \n",
       "9  2025-04-21 13:04:03+00:00 2025-04-21 13:05:56+00:00   \n",
       "10 2025-04-21 13:04:02+00:00 2025-04-21 13:05:46+00:00   \n",
       "2  2025-04-21 13:07:12+00:00 2025-04-21 13:07:51+00:00   \n",
       "3  2025-04-21 13:07:01+00:00 2025-04-21 13:07:35+00:00   \n",
       "11 2025-04-21 13:04:00+00:00 2025-04-21 13:05:44+00:00   \n",
       "1  2025-04-21 13:07:15+00:00 2025-04-21 13:07:58+00:00   \n",
       "8  2025-04-21 13:04:14+00:00 2025-04-21 13:06:13+00:00   \n",
       "6  2025-04-21 13:06:12+00:00 2025-04-21 13:06:46+00:00   \n",
       "7  2025-04-21 13:06:12+00:00 2025-04-21 13:06:58+00:00   \n",
       "0  2025-04-21 13:07:16+00:00 2025-04-21 13:07:55+00:00   \n",
       "\n",
       "    TrainingElapsedTimeSeconds  \n",
       "5                         39.0  \n",
       "4                         31.0  \n",
       "9                        113.0  \n",
       "10                       104.0  \n",
       "2                         39.0  \n",
       "3                         34.0  \n",
       "11                       104.0  \n",
       "1                         43.0  \n",
       "8                        119.0  \n",
       "6                         34.0  \n",
       "7                         46.0  \n",
       "0                         39.0  "
      ]
     },
     "execution_count": 10,
     "metadata": {},
     "output_type": "execute_result"
    }
   ],
   "source": [
    "# Print the tuning metrics\n",
    "tuner = sagemaker.HyperparameterTuningJobAnalytics(job_name)\n",
    "\n",
    "full_df = tuner.dataframe()\n",
    "\n",
    "if len(full_df) > 0:\n",
    "    df = full_df[full_df[\"FinalObjectiveValue\"] > -float(\"inf\")]\n",
    "    if len(df) > 0:\n",
    "        df = df.sort_values(\"FinalObjectiveValue\", ascending=is_minimize)\n",
    "        print(\"Number of training jobs with valid objective: %d\" % len(df))\n",
    "        print({\"lowest\": min(df[\"FinalObjectiveValue\"]), \"highest\": max(df[\"FinalObjectiveValue\"])})\n",
    "        pd.set_option(\"display.max_colwidth\", None)  # Don't truncate TrainingJobName\n",
    "    else:\n",
    "        print(\"No training jobs have reported valid results yet.\")\n",
    "\n",
    "df"
   ]
  },
  {
   "cell_type": "markdown",
   "metadata": {},
   "source": [
    "You can also see how the objective metric changes over time, as the tuning job progresses. For Bayesian strategy, you should expect to see a general trend toward better results, but this progress is not steady because the algorithm must balance exploration of new areas of parameter space against exploitation of known good areas. This can give you a sense of whether or not the number of training jobs is sufficient for the complexity of your search space."
   ]
  },
  {
   "cell_type": "code",
   "execution_count": 11,
   "metadata": {
    "tags": []
   },
   "outputs": [
    {
     "data": {
      "text/html": [
       "\n",
       "    <div class=\"bk-root\">\n",
       "        <a href=\"https://bokeh.org\" target=\"_blank\" class=\"bk-logo bk-logo-small bk-logo-notebook\"></a>\n",
       "        <span id=\"1002\">Loading BokehJS ...</span>\n",
       "    </div>"
      ]
     },
     "metadata": {},
     "output_type": "display_data"
    },
    {
     "data": {
      "application/javascript": [
       "\n",
       "(function(root) {\n",
       "  function now() {\n",
       "    return new Date();\n",
       "  }\n",
       "\n",
       "  const force = true;\n",
       "\n",
       "  if (typeof root._bokeh_onload_callbacks === \"undefined\" || force === true) {\n",
       "    root._bokeh_onload_callbacks = [];\n",
       "    root._bokeh_is_loading = undefined;\n",
       "  }\n",
       "\n",
       "  const JS_MIME_TYPE = 'application/javascript';\n",
       "  const HTML_MIME_TYPE = 'text/html';\n",
       "  const EXEC_MIME_TYPE = 'application/vnd.bokehjs_exec.v0+json';\n",
       "  const CLASS_NAME = 'output_bokeh rendered_html';\n",
       "\n",
       "  /**\n",
       "   * Render data to the DOM node\n",
       "   */\n",
       "  function render(props, node) {\n",
       "    const script = document.createElement(\"script\");\n",
       "    node.appendChild(script);\n",
       "  }\n",
       "\n",
       "  /**\n",
       "   * Handle when an output is cleared or removed\n",
       "   */\n",
       "  function handleClearOutput(event, handle) {\n",
       "    const cell = handle.cell;\n",
       "\n",
       "    const id = cell.output_area._bokeh_element_id;\n",
       "    const server_id = cell.output_area._bokeh_server_id;\n",
       "    // Clean up Bokeh references\n",
       "    if (id != null && id in Bokeh.index) {\n",
       "      Bokeh.index[id].model.document.clear();\n",
       "      delete Bokeh.index[id];\n",
       "    }\n",
       "\n",
       "    if (server_id !== undefined) {\n",
       "      // Clean up Bokeh references\n",
       "      const cmd_clean = \"from bokeh.io.state import curstate; print(curstate().uuid_to_server['\" + server_id + \"'].get_sessions()[0].document.roots[0]._id)\";\n",
       "      cell.notebook.kernel.execute(cmd_clean, {\n",
       "        iopub: {\n",
       "          output: function(msg) {\n",
       "            const id = msg.content.text.trim();\n",
       "            if (id in Bokeh.index) {\n",
       "              Bokeh.index[id].model.document.clear();\n",
       "              delete Bokeh.index[id];\n",
       "            }\n",
       "          }\n",
       "        }\n",
       "      });\n",
       "      // Destroy server and session\n",
       "      const cmd_destroy = \"import bokeh.io.notebook as ion; ion.destroy_server('\" + server_id + \"')\";\n",
       "      cell.notebook.kernel.execute(cmd_destroy);\n",
       "    }\n",
       "  }\n",
       "\n",
       "  /**\n",
       "   * Handle when a new output is added\n",
       "   */\n",
       "  function handleAddOutput(event, handle) {\n",
       "    const output_area = handle.output_area;\n",
       "    const output = handle.output;\n",
       "\n",
       "    // limit handleAddOutput to display_data with EXEC_MIME_TYPE content only\n",
       "    if ((output.output_type != \"display_data\") || (!Object.prototype.hasOwnProperty.call(output.data, EXEC_MIME_TYPE))) {\n",
       "      return\n",
       "    }\n",
       "\n",
       "    const toinsert = output_area.element.find(\".\" + CLASS_NAME.split(' ')[0]);\n",
       "\n",
       "    if (output.metadata[EXEC_MIME_TYPE][\"id\"] !== undefined) {\n",
       "      toinsert[toinsert.length - 1].firstChild.textContent = output.data[JS_MIME_TYPE];\n",
       "      // store reference to embed id on output_area\n",
       "      output_area._bokeh_element_id = output.metadata[EXEC_MIME_TYPE][\"id\"];\n",
       "    }\n",
       "    if (output.metadata[EXEC_MIME_TYPE][\"server_id\"] !== undefined) {\n",
       "      const bk_div = document.createElement(\"div\");\n",
       "      bk_div.innerHTML = output.data[HTML_MIME_TYPE];\n",
       "      const script_attrs = bk_div.children[0].attributes;\n",
       "      for (let i = 0; i < script_attrs.length; i++) {\n",
       "        toinsert[toinsert.length - 1].firstChild.setAttribute(script_attrs[i].name, script_attrs[i].value);\n",
       "        toinsert[toinsert.length - 1].firstChild.textContent = bk_div.children[0].textContent\n",
       "      }\n",
       "      // store reference to server id on output_area\n",
       "      output_area._bokeh_server_id = output.metadata[EXEC_MIME_TYPE][\"server_id\"];\n",
       "    }\n",
       "  }\n",
       "\n",
       "  function register_renderer(events, OutputArea) {\n",
       "\n",
       "    function append_mime(data, metadata, element) {\n",
       "      // create a DOM node to render to\n",
       "      const toinsert = this.create_output_subarea(\n",
       "        metadata,\n",
       "        CLASS_NAME,\n",
       "        EXEC_MIME_TYPE\n",
       "      );\n",
       "      this.keyboard_manager.register_events(toinsert);\n",
       "      // Render to node\n",
       "      const props = {data: data, metadata: metadata[EXEC_MIME_TYPE]};\n",
       "      render(props, toinsert[toinsert.length - 1]);\n",
       "      element.append(toinsert);\n",
       "      return toinsert\n",
       "    }\n",
       "\n",
       "    /* Handle when an output is cleared or removed */\n",
       "    events.on('clear_output.CodeCell', handleClearOutput);\n",
       "    events.on('delete.Cell', handleClearOutput);\n",
       "\n",
       "    /* Handle when a new output is added */\n",
       "    events.on('output_added.OutputArea', handleAddOutput);\n",
       "\n",
       "    /**\n",
       "     * Register the mime type and append_mime function with output_area\n",
       "     */\n",
       "    OutputArea.prototype.register_mime_type(EXEC_MIME_TYPE, append_mime, {\n",
       "      /* Is output safe? */\n",
       "      safe: true,\n",
       "      /* Index of renderer in `output_area.display_order` */\n",
       "      index: 0\n",
       "    });\n",
       "  }\n",
       "\n",
       "  // register the mime type if in Jupyter Notebook environment and previously unregistered\n",
       "  if (root.Jupyter !== undefined) {\n",
       "    const events = require('base/js/events');\n",
       "    const OutputArea = require('notebook/js/outputarea').OutputArea;\n",
       "\n",
       "    if (OutputArea.prototype.mime_types().indexOf(EXEC_MIME_TYPE) == -1) {\n",
       "      register_renderer(events, OutputArea);\n",
       "    }\n",
       "  }\n",
       "\n",
       "  \n",
       "  if (typeof (root._bokeh_timeout) === \"undefined\" || force === true) {\n",
       "    root._bokeh_timeout = Date.now() + 5000;\n",
       "    root._bokeh_failed_load = false;\n",
       "  }\n",
       "\n",
       "  const NB_LOAD_WARNING = {'data': {'text/html':\n",
       "     \"<div style='background-color: #fdd'>\\n\"+\n",
       "     \"<p>\\n\"+\n",
       "     \"BokehJS does not appear to have successfully loaded. If loading BokehJS from CDN, this \\n\"+\n",
       "     \"may be due to a slow or bad network connection. Possible fixes:\\n\"+\n",
       "     \"</p>\\n\"+\n",
       "     \"<ul>\\n\"+\n",
       "     \"<li>re-rerun `output_notebook()` to attempt to load from CDN again, or</li>\\n\"+\n",
       "     \"<li>use INLINE resources instead, as so:</li>\\n\"+\n",
       "     \"</ul>\\n\"+\n",
       "     \"<code>\\n\"+\n",
       "     \"from bokeh.resources import INLINE\\n\"+\n",
       "     \"output_notebook(resources=INLINE)\\n\"+\n",
       "     \"</code>\\n\"+\n",
       "     \"</div>\"}};\n",
       "\n",
       "  function display_loaded() {\n",
       "    const el = document.getElementById(\"1002\");\n",
       "    if (el != null) {\n",
       "      el.textContent = \"BokehJS is loading...\";\n",
       "    }\n",
       "    if (root.Bokeh !== undefined) {\n",
       "      if (el != null) {\n",
       "        el.textContent = \"BokehJS \" + root.Bokeh.version + \" successfully loaded.\";\n",
       "      }\n",
       "    } else if (Date.now() < root._bokeh_timeout) {\n",
       "      setTimeout(display_loaded, 100)\n",
       "    }\n",
       "  }\n",
       "\n",
       "\n",
       "  function run_callbacks() {\n",
       "    try {\n",
       "      root._bokeh_onload_callbacks.forEach(function(callback) {\n",
       "        if (callback != null)\n",
       "          callback();\n",
       "      });\n",
       "    } finally {\n",
       "      delete root._bokeh_onload_callbacks\n",
       "    }\n",
       "    console.debug(\"Bokeh: all callbacks have finished\");\n",
       "  }\n",
       "\n",
       "  function load_libs(css_urls, js_urls, callback) {\n",
       "    if (css_urls == null) css_urls = [];\n",
       "    if (js_urls == null) js_urls = [];\n",
       "\n",
       "    root._bokeh_onload_callbacks.push(callback);\n",
       "    if (root._bokeh_is_loading > 0) {\n",
       "      console.debug(\"Bokeh: BokehJS is being loaded, scheduling callback at\", now());\n",
       "      return null;\n",
       "    }\n",
       "    if (js_urls == null || js_urls.length === 0) {\n",
       "      run_callbacks();\n",
       "      return null;\n",
       "    }\n",
       "    console.debug(\"Bokeh: BokehJS not loaded, scheduling load and callback at\", now());\n",
       "    root._bokeh_is_loading = css_urls.length + js_urls.length;\n",
       "\n",
       "    function on_load() {\n",
       "      root._bokeh_is_loading--;\n",
       "      if (root._bokeh_is_loading === 0) {\n",
       "        console.debug(\"Bokeh: all BokehJS libraries/stylesheets loaded\");\n",
       "        run_callbacks()\n",
       "      }\n",
       "    }\n",
       "\n",
       "    function on_error(url) {\n",
       "      console.error(\"failed to load \" + url);\n",
       "    }\n",
       "\n",
       "    for (let i = 0; i < css_urls.length; i++) {\n",
       "      const url = css_urls[i];\n",
       "      const element = document.createElement(\"link\");\n",
       "      element.onload = on_load;\n",
       "      element.onerror = on_error.bind(null, url);\n",
       "      element.rel = \"stylesheet\";\n",
       "      element.type = \"text/css\";\n",
       "      element.href = url;\n",
       "      console.debug(\"Bokeh: injecting link tag for BokehJS stylesheet: \", url);\n",
       "      document.body.appendChild(element);\n",
       "    }\n",
       "\n",
       "    for (let i = 0; i < js_urls.length; i++) {\n",
       "      const url = js_urls[i];\n",
       "      const element = document.createElement('script');\n",
       "      element.onload = on_load;\n",
       "      element.onerror = on_error.bind(null, url);\n",
       "      element.async = false;\n",
       "      element.src = url;\n",
       "      console.debug(\"Bokeh: injecting script tag for BokehJS library: \", url);\n",
       "      document.head.appendChild(element);\n",
       "    }\n",
       "  };\n",
       "\n",
       "  function inject_raw_css(css) {\n",
       "    const element = document.createElement(\"style\");\n",
       "    element.appendChild(document.createTextNode(css));\n",
       "    document.body.appendChild(element);\n",
       "  }\n",
       "\n",
       "  \n",
       "  const js_urls = [\"https://cdn.bokeh.org/bokeh/release/bokeh-2.4.2.min.js\", \"https://cdn.bokeh.org/bokeh/release/bokeh-gl-2.4.2.min.js\", \"https://cdn.bokeh.org/bokeh/release/bokeh-widgets-2.4.2.min.js\", \"https://cdn.bokeh.org/bokeh/release/bokeh-tables-2.4.2.min.js\", \"https://cdn.bokeh.org/bokeh/release/bokeh-mathjax-2.4.2.min.js\"];\n",
       "  const css_urls = [];\n",
       "  \n",
       "\n",
       "  const inline_js = [\n",
       "    function(Bokeh) {\n",
       "      Bokeh.set_log_level(\"info\");\n",
       "    },\n",
       "    function(Bokeh) {\n",
       "    \n",
       "    \n",
       "    }\n",
       "  ];\n",
       "\n",
       "  function run_inline_js() {\n",
       "    \n",
       "    if (root.Bokeh !== undefined || force === true) {\n",
       "      \n",
       "    for (let i = 0; i < inline_js.length; i++) {\n",
       "      inline_js[i].call(root, root.Bokeh);\n",
       "    }\n",
       "    if (force === true) {\n",
       "        display_loaded();\n",
       "      }} else if (Date.now() < root._bokeh_timeout) {\n",
       "      setTimeout(run_inline_js, 100);\n",
       "    } else if (!root._bokeh_failed_load) {\n",
       "      console.log(\"Bokeh: BokehJS failed to load within specified timeout.\");\n",
       "      root._bokeh_failed_load = true;\n",
       "    } else if (force !== true) {\n",
       "      const cell = $(document.getElementById(\"1002\")).parents('.cell').data().cell;\n",
       "      cell.output_area.append_execute_result(NB_LOAD_WARNING)\n",
       "    }\n",
       "\n",
       "  }\n",
       "\n",
       "  if (root._bokeh_is_loading === 0) {\n",
       "    console.debug(\"Bokeh: BokehJS loaded, going straight to plotting\");\n",
       "    run_inline_js();\n",
       "  } else {\n",
       "    load_libs(css_urls, js_urls, function() {\n",
       "      console.debug(\"Bokeh: BokehJS plotting callback run at\", now());\n",
       "      run_inline_js();\n",
       "    });\n",
       "  }\n",
       "}(window));"
      ],
      "application/vnd.bokehjs_load.v0+json": "\n(function(root) {\n  function now() {\n    return new Date();\n  }\n\n  const force = true;\n\n  if (typeof root._bokeh_onload_callbacks === \"undefined\" || force === true) {\n    root._bokeh_onload_callbacks = [];\n    root._bokeh_is_loading = undefined;\n  }\n\n  \n\n  \n  if (typeof (root._bokeh_timeout) === \"undefined\" || force === true) {\n    root._bokeh_timeout = Date.now() + 5000;\n    root._bokeh_failed_load = false;\n  }\n\n  const NB_LOAD_WARNING = {'data': {'text/html':\n     \"<div style='background-color: #fdd'>\\n\"+\n     \"<p>\\n\"+\n     \"BokehJS does not appear to have successfully loaded. If loading BokehJS from CDN, this \\n\"+\n     \"may be due to a slow or bad network connection. Possible fixes:\\n\"+\n     \"</p>\\n\"+\n     \"<ul>\\n\"+\n     \"<li>re-rerun `output_notebook()` to attempt to load from CDN again, or</li>\\n\"+\n     \"<li>use INLINE resources instead, as so:</li>\\n\"+\n     \"</ul>\\n\"+\n     \"<code>\\n\"+\n     \"from bokeh.resources import INLINE\\n\"+\n     \"output_notebook(resources=INLINE)\\n\"+\n     \"</code>\\n\"+\n     \"</div>\"}};\n\n  function display_loaded() {\n    const el = document.getElementById(\"1002\");\n    if (el != null) {\n      el.textContent = \"BokehJS is loading...\";\n    }\n    if (root.Bokeh !== undefined) {\n      if (el != null) {\n        el.textContent = \"BokehJS \" + root.Bokeh.version + \" successfully loaded.\";\n      }\n    } else if (Date.now() < root._bokeh_timeout) {\n      setTimeout(display_loaded, 100)\n    }\n  }\n\n\n  function run_callbacks() {\n    try {\n      root._bokeh_onload_callbacks.forEach(function(callback) {\n        if (callback != null)\n          callback();\n      });\n    } finally {\n      delete root._bokeh_onload_callbacks\n    }\n    console.debug(\"Bokeh: all callbacks have finished\");\n  }\n\n  function load_libs(css_urls, js_urls, callback) {\n    if (css_urls == null) css_urls = [];\n    if (js_urls == null) js_urls = [];\n\n    root._bokeh_onload_callbacks.push(callback);\n    if (root._bokeh_is_loading > 0) {\n      console.debug(\"Bokeh: BokehJS is being loaded, scheduling callback at\", now());\n      return null;\n    }\n    if (js_urls == null || js_urls.length === 0) {\n      run_callbacks();\n      return null;\n    }\n    console.debug(\"Bokeh: BokehJS not loaded, scheduling load and callback at\", now());\n    root._bokeh_is_loading = css_urls.length + js_urls.length;\n\n    function on_load() {\n      root._bokeh_is_loading--;\n      if (root._bokeh_is_loading === 0) {\n        console.debug(\"Bokeh: all BokehJS libraries/stylesheets loaded\");\n        run_callbacks()\n      }\n    }\n\n    function on_error(url) {\n      console.error(\"failed to load \" + url);\n    }\n\n    for (let i = 0; i < css_urls.length; i++) {\n      const url = css_urls[i];\n      const element = document.createElement(\"link\");\n      element.onload = on_load;\n      element.onerror = on_error.bind(null, url);\n      element.rel = \"stylesheet\";\n      element.type = \"text/css\";\n      element.href = url;\n      console.debug(\"Bokeh: injecting link tag for BokehJS stylesheet: \", url);\n      document.body.appendChild(element);\n    }\n\n    for (let i = 0; i < js_urls.length; i++) {\n      const url = js_urls[i];\n      const element = document.createElement('script');\n      element.onload = on_load;\n      element.onerror = on_error.bind(null, url);\n      element.async = false;\n      element.src = url;\n      console.debug(\"Bokeh: injecting script tag for BokehJS library: \", url);\n      document.head.appendChild(element);\n    }\n  };\n\n  function inject_raw_css(css) {\n    const element = document.createElement(\"style\");\n    element.appendChild(document.createTextNode(css));\n    document.body.appendChild(element);\n  }\n\n  \n  const js_urls = [\"https://cdn.bokeh.org/bokeh/release/bokeh-2.4.2.min.js\", \"https://cdn.bokeh.org/bokeh/release/bokeh-gl-2.4.2.min.js\", \"https://cdn.bokeh.org/bokeh/release/bokeh-widgets-2.4.2.min.js\", \"https://cdn.bokeh.org/bokeh/release/bokeh-tables-2.4.2.min.js\", \"https://cdn.bokeh.org/bokeh/release/bokeh-mathjax-2.4.2.min.js\"];\n  const css_urls = [];\n  \n\n  const inline_js = [\n    function(Bokeh) {\n      Bokeh.set_log_level(\"info\");\n    },\n    function(Bokeh) {\n    \n    \n    }\n  ];\n\n  function run_inline_js() {\n    \n    if (root.Bokeh !== undefined || force === true) {\n      \n    for (let i = 0; i < inline_js.length; i++) {\n      inline_js[i].call(root, root.Bokeh);\n    }\n    if (force === true) {\n        display_loaded();\n      }} else if (Date.now() < root._bokeh_timeout) {\n      setTimeout(run_inline_js, 100);\n    } else if (!root._bokeh_failed_load) {\n      console.log(\"Bokeh: BokehJS failed to load within specified timeout.\");\n      root._bokeh_failed_load = true;\n    } else if (force !== true) {\n      const cell = $(document.getElementById(\"1002\")).parents('.cell').data().cell;\n      cell.output_area.append_execute_result(NB_LOAD_WARNING)\n    }\n\n  }\n\n  if (root._bokeh_is_loading === 0) {\n    console.debug(\"Bokeh: BokehJS loaded, going straight to plotting\");\n    run_inline_js();\n  } else {\n    load_libs(css_urls, js_urls, function() {\n      console.debug(\"Bokeh: BokehJS plotting callback run at\", now());\n      run_inline_js();\n    });\n  }\n}(window));"
     },
     "metadata": {},
     "output_type": "display_data"
    },
    {
     "data": {
      "text/html": [
       "\n",
       "\n",
       "\n",
       "\n",
       "\n",
       "\n",
       "  <div class=\"bk-root\" id=\"d0908159-ffad-4da6-8ba2-3d7bac7eedbc\" data-root-id=\"1003\"></div>\n"
      ]
     },
     "metadata": {},
     "output_type": "display_data"
    },
    {
     "data": {
      "application/javascript": [
       "(function(root) {\n",
       "  function embed_document(root) {\n",
       "    \n",
       "  const docs_json = {\"bf600cbb-881f-4a4a-8448-bc372d337bc6\":{\"defs\":[],\"roots\":{\"references\":[{\"attributes\":{\"below\":[{\"id\":\"1014\"}],\"center\":[{\"id\":\"1017\"},{\"id\":\"1021\"}],\"height\":400,\"left\":[{\"id\":\"1018\"}],\"renderers\":[{\"id\":\"1042\"},{\"id\":\"1048\"}],\"title\":{\"id\":\"1004\"},\"toolbar\":{\"id\":\"1029\"},\"width\":900,\"x_range\":{\"id\":\"1006\"},\"x_scale\":{\"id\":\"1010\"},\"y_range\":{\"id\":\"1008\"},\"y_scale\":{\"id\":\"1012\"}},\"id\":\"1003\",\"subtype\":\"Figure\",\"type\":\"Plot\"},{\"attributes\":{\"days\":[1,4,7,10,13,16,19,22,25,28]},\"id\":\"1066\",\"type\":\"DaysTicker\"},{\"attributes\":{\"source\":{\"id\":\"1044\"}},\"id\":\"1049\",\"type\":\"CDSView\"},{\"attributes\":{\"mantissas\":[1,2,5],\"max_interval\":500.0,\"num_minor_ticks\":0},\"id\":\"1062\",\"type\":\"AdaptiveTicker\"},{\"attributes\":{\"data\":{\"x\":{\"__ndarray__\":\"AACgLIdleUIAAB0th2V5QgCAWy2HZXlCAAALMIdleUIAANpMh2V5QgAA2kyHZXlCAABXTYdleUIAgINQh2V5QgCA0FiHZXlCAACAW4dleUIAgDtch2V5QgAAelyHZXlC\",\"dtype\":\"float64\",\"order\":\"little\",\"shape\":[12]},\"y\":{\"__ndarray__\":\"AAAAYN5x7D8AAABAthDtPwAAAKB4QO0/AAAA4GUx7D8AAADA93DrPwAAAEBNLes/AAAAYBVv7T8AAADggVbtPwAAACABh+w/AAAAYBn/7D8AAABgR1XsPwAAAAAAAOA/\",\"dtype\":\"float64\",\"order\":\"little\",\"shape\":[12]}},\"selected\":{\"id\":\"1058\"},\"selection_policy\":{\"id\":\"1057\"}},\"id\":\"1038\",\"type\":\"ColumnDataSource\"},{\"attributes\":{\"days\":[1,8,15,22]},\"id\":\"1067\",\"type\":\"DaysTicker\"},{\"attributes\":{},\"id\":\"1010\",\"type\":\"LinearScale\"},{\"attributes\":{\"num_minor_ticks\":5,\"tickers\":[{\"id\":\"1062\"},{\"id\":\"1063\"},{\"id\":\"1064\"},{\"id\":\"1065\"},{\"id\":\"1066\"},{\"id\":\"1067\"},{\"id\":\"1068\"},{\"id\":\"1069\"},{\"id\":\"1070\"},{\"id\":\"1071\"},{\"id\":\"1072\"},{\"id\":\"1073\"}]},\"id\":\"1015\",\"type\":\"DatetimeTicker\"},{\"attributes\":{\"axis\":{\"id\":\"1014\"},\"coordinates\":null,\"group\":null,\"ticker\":null},\"id\":\"1017\",\"type\":\"Grid\"},{\"attributes\":{},\"id\":\"1057\",\"type\":\"UnionRenderers\"},{\"attributes\":{},\"id\":\"1058\",\"type\":\"Selection\"},{\"attributes\":{\"base\":60,\"mantissas\":[1,2,5,10,15,20,30],\"max_interval\":1800000.0,\"min_interval\":1000.0,\"num_minor_ticks\":0},\"id\":\"1063\",\"type\":\"AdaptiveTicker\"},{\"attributes\":{},\"id\":\"1059\",\"type\":\"UnionRenderers\"},{\"attributes\":{\"callback\":null,\"formatters\":{\"@x\":\"datetime\"},\"tooltips\":[[\"FinalObjectiveValue\",\"@y\"],[\"TrainingStartTime\",\"@x{%T}\"]]},\"id\":\"1036\",\"type\":\"HoverTool\"},{\"attributes\":{},\"id\":\"1056\",\"type\":\"AllLabels\"},{\"attributes\":{},\"id\":\"1052\",\"type\":\"BasicTickFormatter\"},{\"attributes\":{\"coordinates\":null,\"group\":null,\"text\":\"Final Objective Value over Time\"},\"id\":\"1004\",\"type\":\"Title\"},{\"attributes\":{\"coordinates\":null,\"data_source\":{\"id\":\"1038\"},\"glyph\":{\"id\":\"1039\"},\"group\":null,\"hover_glyph\":null,\"muted_glyph\":{\"id\":\"1041\"},\"nonselection_glyph\":{\"id\":\"1040\"},\"view\":{\"id\":\"1043\"}},\"id\":\"1042\",\"type\":\"GlyphRenderer\"},{\"attributes\":{\"fill_alpha\":{\"value\":0.2},\"fill_color\":{\"value\":\"red\"},\"hatch_alpha\":{\"value\":0.2},\"line_alpha\":{\"value\":0.2},\"line_color\":{\"value\":\"green\"},\"size\":{\"value\":8},\"x\":{\"field\":\"x\"},\"y\":{\"field\":\"y\"}},\"id\":\"1047\",\"type\":\"Circle\"},{\"attributes\":{},\"id\":\"1022\",\"type\":\"PanTool\"},{\"attributes\":{},\"id\":\"1023\",\"type\":\"WheelZoomTool\"},{\"attributes\":{\"months\":[0,6]},\"id\":\"1072\",\"type\":\"MonthsTicker\"},{\"attributes\":{\"tools\":[{\"id\":\"1022\"},{\"id\":\"1023\"},{\"id\":\"1024\"},{\"id\":\"1025\"},{\"id\":\"1026\"},{\"id\":\"1027\"},{\"id\":\"1036\"}]},\"id\":\"1029\",\"type\":\"Toolbar\"},{\"attributes\":{\"fill_color\":{\"value\":\"red\"},\"line_color\":{\"value\":\"green\"},\"size\":{\"value\":8},\"x\":{\"field\":\"x\"},\"y\":{\"field\":\"y\"}},\"id\":\"1045\",\"type\":\"Circle\"},{\"attributes\":{},\"id\":\"1012\",\"type\":\"LinearScale\"},{\"attributes\":{\"data\":{\"x\":{\"__ndarray__\":\"AACgLIdleUIAAB0th2V5QgCAWy2HZXlCAAALMIdleUIAANpMh2V5QgAA2kyHZXlCAABXTYdleUIAgINQh2V5QgCA0FiHZXlCAACAW4dleUIAgDtch2V5QgAAelyHZXlC\",\"dtype\":\"float64\",\"order\":\"little\",\"shape\":[12]},\"y\":{\"__ndarray__\":\"AAAAYN5x7D8AAABAthDtPwAAAKB4QO0/AAAA4GUx7D8AAADA93DrPwAAAEBNLes/AAAAYBVv7T8AAADggVbtPwAAACABh+w/AAAAYBn/7D8AAABgR1XsPwAAAAAAAOA/\",\"dtype\":\"float64\",\"order\":\"little\",\"shape\":[12]}},\"selected\":{\"id\":\"1060\"},\"selection_policy\":{\"id\":\"1059\"}},\"id\":\"1044\",\"type\":\"ColumnDataSource\"},{\"attributes\":{\"bottom_units\":\"screen\",\"coordinates\":null,\"fill_alpha\":0.5,\"fill_color\":\"lightgrey\",\"group\":null,\"left_units\":\"screen\",\"level\":\"overlay\",\"line_alpha\":1.0,\"line_color\":\"black\",\"line_dash\":[4,4],\"line_width\":2,\"right_units\":\"screen\",\"syncable\":false,\"top_units\":\"screen\"},\"id\":\"1028\",\"type\":\"BoxAnnotation\"},{\"attributes\":{},\"id\":\"1027\",\"type\":\"HelpTool\"},{\"attributes\":{\"months\":[0,4,8]},\"id\":\"1071\",\"type\":\"MonthsTicker\"},{\"attributes\":{\"source\":{\"id\":\"1038\"}},\"id\":\"1043\",\"type\":\"CDSView\"},{\"attributes\":{},\"id\":\"1006\",\"type\":\"DataRange1d\"},{\"attributes\":{\"fill_alpha\":{\"value\":0.1},\"fill_color\":{\"value\":\"red\"},\"hatch_alpha\":{\"value\":0.1},\"line_alpha\":{\"value\":0.1},\"line_color\":{\"value\":\"green\"},\"size\":{\"value\":8},\"x\":{\"field\":\"x\"},\"y\":{\"field\":\"y\"}},\"id\":\"1046\",\"type\":\"Circle\"},{\"attributes\":{},\"id\":\"1055\",\"type\":\"DatetimeTickFormatter\"},{\"attributes\":{\"months\":[0,2,4,6,8,10]},\"id\":\"1070\",\"type\":\"MonthsTicker\"},{\"attributes\":{},\"id\":\"1073\",\"type\":\"YearsTicker\"},{\"attributes\":{},\"id\":\"1026\",\"type\":\"ResetTool\"},{\"attributes\":{\"months\":[0,1,2,3,4,5,6,7,8,9,10,11]},\"id\":\"1069\",\"type\":\"MonthsTicker\"},{\"attributes\":{\"line_color\":\"green\",\"line_width\":2,\"x\":{\"field\":\"x\"},\"y\":{\"field\":\"y\"}},\"id\":\"1039\",\"type\":\"Line\"},{\"attributes\":{\"coordinates\":null,\"data_source\":{\"id\":\"1044\"},\"glyph\":{\"id\":\"1045\"},\"group\":null,\"hover_glyph\":null,\"muted_glyph\":{\"id\":\"1047\"},\"nonselection_glyph\":{\"id\":\"1046\"},\"view\":{\"id\":\"1049\"}},\"id\":\"1048\",\"type\":\"GlyphRenderer\"},{\"attributes\":{\"overlay\":{\"id\":\"1028\"}},\"id\":\"1024\",\"type\":\"BoxZoomTool\"},{\"attributes\":{\"axis\":{\"id\":\"1018\"},\"coordinates\":null,\"dimension\":1,\"group\":null,\"ticker\":null},\"id\":\"1021\",\"type\":\"Grid\"},{\"attributes\":{},\"id\":\"1060\",\"type\":\"Selection\"},{\"attributes\":{\"days\":[1,2,3,4,5,6,7,8,9,10,11,12,13,14,15,16,17,18,19,20,21,22,23,24,25,26,27,28,29,30,31]},\"id\":\"1065\",\"type\":\"DaysTicker\"},{\"attributes\":{\"days\":[1,15]},\"id\":\"1068\",\"type\":\"DaysTicker\"},{\"attributes\":{},\"id\":\"1053\",\"type\":\"AllLabels\"},{\"attributes\":{},\"id\":\"1025\",\"type\":\"SaveTool\"},{\"attributes\":{},\"id\":\"1008\",\"type\":\"DataRange1d\"},{\"attributes\":{\"base\":24,\"mantissas\":[1,2,4,6,8,12],\"max_interval\":43200000.0,\"min_interval\":3600000.0,\"num_minor_ticks\":0},\"id\":\"1064\",\"type\":\"AdaptiveTicker\"},{\"attributes\":{\"line_alpha\":0.1,\"line_color\":\"green\",\"line_width\":2,\"x\":{\"field\":\"x\"},\"y\":{\"field\":\"y\"}},\"id\":\"1040\",\"type\":\"Line\"},{\"attributes\":{\"line_alpha\":0.2,\"line_color\":\"green\",\"line_width\":2,\"x\":{\"field\":\"x\"},\"y\":{\"field\":\"y\"}},\"id\":\"1041\",\"type\":\"Line\"},{\"attributes\":{},\"id\":\"1019\",\"type\":\"BasicTicker\"},{\"attributes\":{\"axis_label\":\"TrainingStartTime\",\"coordinates\":null,\"formatter\":{\"id\":\"1055\"},\"group\":null,\"major_label_policy\":{\"id\":\"1056\"},\"ticker\":{\"id\":\"1015\"}},\"id\":\"1014\",\"type\":\"DatetimeAxis\"},{\"attributes\":{\"axis_label\":\"FinalObjectiveValue\",\"coordinates\":null,\"formatter\":{\"id\":\"1052\"},\"group\":null,\"major_label_policy\":{\"id\":\"1053\"},\"ticker\":{\"id\":\"1019\"}},\"id\":\"1018\",\"type\":\"LinearAxis\"}],\"root_ids\":[\"1003\"]},\"title\":\"Bokeh Application\",\"version\":\"2.4.2\"}};\n",
       "  const render_items = [{\"docid\":\"bf600cbb-881f-4a4a-8448-bc372d337bc6\",\"root_ids\":[\"1003\"],\"roots\":{\"1003\":\"d0908159-ffad-4da6-8ba2-3d7bac7eedbc\"}}];\n",
       "  root.Bokeh.embed.embed_items_notebook(docs_json, render_items);\n",
       "\n",
       "  }\n",
       "  if (root.Bokeh !== undefined) {\n",
       "    embed_document(root);\n",
       "  } else {\n",
       "    let attempts = 0;\n",
       "    const timer = setInterval(function(root) {\n",
       "      if (root.Bokeh !== undefined) {\n",
       "        clearInterval(timer);\n",
       "        embed_document(root);\n",
       "      } else {\n",
       "        attempts++;\n",
       "        if (attempts > 100) {\n",
       "          clearInterval(timer);\n",
       "          console.log(\"Bokeh: ERROR: Unable to run BokehJS code because BokehJS library is missing\");\n",
       "        }\n",
       "      }\n",
       "    }, 10, root)\n",
       "  }\n",
       "})(window);"
      ],
      "application/vnd.bokehjs_exec.v0+json": ""
     },
     "metadata": {
      "application/vnd.bokehjs_exec.v0+json": {
       "id": "1003"
      }
     },
     "output_type": "display_data"
    }
   ],
   "source": [
    "# Plot the objective metric results against time\n",
    "bokeh.io.output_notebook()\n",
    "\n",
    "df = df.sort_values(by=['TrainingStartTime'], ascending=True)\n",
    "\n",
    "# x = df['TrainingStartTime'].to_numpy()\n",
    "x = df['TrainingStartTime']\n",
    "y = df['FinalObjectiveValue'].to_numpy()\n",
    "\n",
    "p = figure(\n",
    "    title=\"Final Objective Value over Time\", \n",
    "    width=900, height=400, \n",
    "    x_axis_label=\"TrainingStartTime\",\n",
    "    y_axis_label=\"FinalObjectiveValue\",\n",
    "    x_axis_type=\"datetime\"\n",
    ")\n",
    "\n",
    "# add hover tool \n",
    "hover = HoverTool(tooltips=[\n",
    "    ('FinalObjectiveValue', '@y'),\n",
    "    ('TrainingStartTime', \"@x{%T}\")\n",
    "    ], formatters={'@x': 'datetime'}) \n",
    "p.add_tools(hover) \n",
    "\n",
    "\n",
    "# p.circle(source=df, x=\"TrainingStartTime\", y=\"FinalObjectiveValue\")\n",
    "p.line(x,y,color='green',line_width=2)\n",
    "p.circle(x, y, fill_color =\"red\", line_color =\"green\", size=8) \n",
    "\n",
    "show(p)"
   ]
  },
  {
   "cell_type": "markdown",
   "metadata": {},
   "source": [
    "Now that you have finished a tuning job, you might want to know the correlation between your objective metric and individual hyperparameters that you have selected to tune. Having that insight helps you decide whether it makes sense to adjust search ranges for certain hyperparameters and start another tuning job. For example, if you see a positive trend between objective metric and a numerical hyperparameter, you probably want to set a higher tuning range for that hyperparameter in your next tuning job.\n",
    "\n",
    "The following cell draws a graph for each hyperparameter to show its correlation with your objective metric."
   ]
  },
  {
   "cell_type": "code",
   "execution_count": 12,
   "metadata": {
    "tags": []
   },
   "outputs": [
    {
     "data": {
      "text/html": [
       "\n",
       "\n",
       "\n",
       "\n",
       "\n",
       "\n",
       "  <div class=\"bk-root\" id=\"863cbd71-dcdf-4208-abf4-f82d6f1a6811\" data-root-id=\"1434\"></div>\n"
      ]
     },
     "metadata": {},
     "output_type": "display_data"
    },
    {
     "data": {
      "application/javascript": [
       "(function(root) {\n",
       "  function embed_document(root) {\n",
       "    \n",
       "  const docs_json = {\"2b42cfbf-6c91-4d1e-a09b-d7a7fbbf34f0\":{\"defs\":[],\"roots\":{\"references\":[{\"attributes\":{\"children\":[{\"id\":\"1194\"},{\"id\":\"1242\"},{\"id\":\"1290\"},{\"id\":\"1338\"},{\"id\":\"1386\"}]},\"id\":\"1434\",\"type\":\"Column\"},{\"attributes\":{},\"id\":\"1505\",\"type\":\"Selection\"},{\"attributes\":{},\"id\":\"1345\",\"type\":\"LinearScale\"},{\"attributes\":{},\"id\":\"1214\",\"type\":\"WheelZoomTool\"},{\"attributes\":{\"coordinates\":null,\"group\":null,\"text\":\"Objective vs eta\"},\"id\":\"1339\",\"type\":\"Title\"},{\"attributes\":{},\"id\":\"1343\",\"type\":\"DataRange1d\"},{\"attributes\":{\"below\":[{\"id\":\"1253\"}],\"center\":[{\"id\":\"1256\"},{\"id\":\"1260\"}],\"height\":500,\"left\":[{\"id\":\"1257\"}],\"renderers\":[{\"id\":\"1282\"},{\"id\":\"1288\"}],\"title\":{\"id\":\"1243\"},\"toolbar\":{\"id\":\"1268\"},\"width\":500,\"x_range\":{\"id\":\"1245\"},\"x_scale\":{\"id\":\"1249\"},\"y_range\":{\"id\":\"1247\"},\"y_scale\":{\"id\":\"1251\"}},\"id\":\"1242\",\"subtype\":\"Figure\",\"type\":\"Plot\"},{\"attributes\":{},\"id\":\"1218\",\"type\":\"HelpTool\"},{\"attributes\":{\"callback\":null,\"tooltips\":[[\"FinalObjectiveValue\",\"@y\"],[\"eta\",\"@x\"]]},\"id\":\"1371\",\"type\":\"HoverTool\"},{\"attributes\":{},\"id\":\"1341\",\"type\":\"DataRange1d\"},{\"attributes\":{\"line_alpha\":0.2,\"line_color\":\"green\",\"line_width\":2,\"x\":{\"field\":\"x\"},\"y\":{\"field\":\"y\"}},\"id\":\"1383\",\"type\":\"Line\"},{\"attributes\":{\"below\":[{\"id\":\"1349\"}],\"center\":[{\"id\":\"1352\"},{\"id\":\"1356\"}],\"height\":500,\"left\":[{\"id\":\"1353\"}],\"renderers\":[{\"id\":\"1378\"},{\"id\":\"1384\"}],\"title\":{\"id\":\"1339\"},\"toolbar\":{\"id\":\"1364\"},\"width\":500,\"x_range\":{\"id\":\"1341\"},\"x_scale\":{\"id\":\"1345\"},\"y_range\":{\"id\":\"1343\"},\"y_scale\":{\"id\":\"1347\"}},\"id\":\"1338\",\"subtype\":\"Figure\",\"type\":\"Plot\"},{\"attributes\":{\"callback\":null,\"tooltips\":[[\"FinalObjectiveValue\",\"@y\"],[\"min_child_weight\",\"@x\"]]},\"id\":\"1419\",\"type\":\"HoverTool\"},{\"attributes\":{\"source\":{\"id\":\"1373\"}},\"id\":\"1379\",\"type\":\"CDSView\"},{\"attributes\":{\"line_alpha\":0.1,\"line_color\":\"green\",\"line_width\":2,\"x\":{\"field\":\"x\"},\"y\":{\"field\":\"y\"}},\"id\":\"1382\",\"type\":\"Line\"},{\"attributes\":{},\"id\":\"1217\",\"type\":\"ResetTool\"},{\"attributes\":{\"fill_alpha\":{\"value\":0.2},\"fill_color\":{\"value\":\"#1f77b4\"},\"hatch_alpha\":{\"value\":0.2},\"line_alpha\":{\"value\":0.2},\"line_color\":{\"value\":\"#1f77b4\"},\"x\":{\"field\":\"eta\"},\"y\":{\"field\":\"FinalObjectiveValue\"}},\"id\":\"1377\",\"type\":\"Circle\"},{\"attributes\":{\"overlay\":{\"id\":\"1219\"}},\"id\":\"1215\",\"type\":\"BoxZoomTool\"},{\"attributes\":{\"fill_alpha\":{\"value\":0.2},\"fill_color\":{\"value\":\"#1f77b4\"},\"hatch_alpha\":{\"value\":0.2},\"line_alpha\":{\"value\":0.2},\"line_color\":{\"value\":\"#1f77b4\"},\"x\":{\"field\":\"max_depth\"},\"y\":{\"field\":\"FinalObjectiveValue\"}},\"id\":\"1233\",\"type\":\"Circle\"},{\"attributes\":{\"fill_alpha\":{\"value\":0.2},\"fill_color\":{\"value\":\"#1f77b4\"},\"hatch_alpha\":{\"value\":0.2},\"line_alpha\":{\"value\":0.2},\"line_color\":{\"value\":\"#1f77b4\"},\"x\":{\"field\":\"alpha\"},\"y\":{\"field\":\"FinalObjectiveValue\"}},\"id\":\"1329\",\"type\":\"Circle\"},{\"attributes\":{\"line_color\":\"green\",\"line_width\":2,\"x\":{\"field\":\"x\"},\"y\":{\"field\":\"y\"}},\"id\":\"1381\",\"type\":\"Line\"},{\"attributes\":{\"data\":{\"x\":{\"__ndarray__\":\"sh2vYK1i5D9bTL6GwC3gP8BbBBwOaK8/aF4VYC7owj+O+m0MlDroP4Dp2ixa49o/VmxQiawT1z849iEzr066P/BIIxymZ+M/jdrADhcX0j8AAAAAAADwPwAAAAAAAJA8\",\"dtype\":\"float64\",\"order\":\"little\",\"shape\":[12]},\"y\":[0.888328274207752,0.8720988096780966,0.8172546513055478,0.8279174394457028,0.9031558474839838,0.861548534217887,0.8541967070081906,0.8223684496561866,0.8845452293460002,0.8445775277296586,0.9331368049928419,0.8096818302519397]},\"selected\":{\"id\":\"1512\"},\"selection_policy\":{\"id\":\"1511\"}},\"id\":\"1380\",\"type\":\"ColumnDataSource\"},{\"attributes\":{},\"id\":\"1262\",\"type\":\"WheelZoomTool\"},{\"attributes\":{\"source\":{\"id\":\"1332\"}},\"id\":\"1337\",\"type\":\"CDSView\"},{\"attributes\":{\"bottom_units\":\"screen\",\"coordinates\":null,\"fill_alpha\":0.5,\"fill_color\":\"lightgrey\",\"group\":null,\"left_units\":\"screen\",\"level\":\"overlay\",\"line_alpha\":1.0,\"line_color\":\"black\",\"line_dash\":[4,4],\"line_width\":2,\"right_units\":\"screen\",\"syncable\":false,\"top_units\":\"screen\"},\"id\":\"1219\",\"type\":\"BoxAnnotation\"},{\"attributes\":{},\"id\":\"1515\",\"type\":\"Selection\"},{\"attributes\":{\"coordinates\":null,\"data_source\":{\"id\":\"1332\"},\"glyph\":{\"id\":\"1333\"},\"group\":null,\"hover_glyph\":null,\"muted_glyph\":{\"id\":\"1335\"},\"nonselection_glyph\":{\"id\":\"1334\"},\"view\":{\"id\":\"1337\"}},\"id\":\"1336\",\"type\":\"GlyphRenderer\"},{\"attributes\":{\"line_alpha\":0.2,\"line_color\":\"green\",\"line_width\":2,\"x\":{\"field\":\"x\"},\"y\":{\"field\":\"y\"}},\"id\":\"1335\",\"type\":\"Line\"},{\"attributes\":{\"line_alpha\":0.1,\"line_color\":\"green\",\"line_width\":2,\"x\":{\"field\":\"x\"},\"y\":{\"field\":\"y\"}},\"id\":\"1334\",\"type\":\"Line\"},{\"attributes\":{},\"id\":\"1347\",\"type\":\"LinearScale\"},{\"attributes\":{\"fill_alpha\":{\"value\":0.1},\"fill_color\":{\"value\":\"#1f77b4\"},\"hatch_alpha\":{\"value\":0.1},\"line_alpha\":{\"value\":0.1},\"line_color\":{\"value\":\"#1f77b4\"},\"x\":{\"field\":\"eta\"},\"y\":{\"field\":\"FinalObjectiveValue\"}},\"id\":\"1376\",\"type\":\"Circle\"},{\"attributes\":{\"line_alpha\":0.2,\"line_color\":\"green\",\"line_width\":2,\"x\":{\"field\":\"x\"},\"y\":{\"field\":\"y\"}},\"id\":\"1239\",\"type\":\"Line\"},{\"attributes\":{\"fill_color\":{\"value\":\"#1f77b4\"},\"line_color\":{\"value\":\"#1f77b4\"},\"x\":{\"field\":\"alpha\"},\"y\":{\"field\":\"FinalObjectiveValue\"}},\"id\":\"1327\",\"type\":\"Circle\"},{\"attributes\":{\"data\":{\"FinalObjectiveValue\":{\"__ndarray__\":\"AAAAYN5x7D8AAABAthDtPwAAAKB4QO0/AAAA4GUx7D8AAADA93DrPwAAAEBNLes/AAAAYBVv7T8AAADggVbtPwAAACABh+w/AAAAYBn/7D8AAABgR1XsPwAAAAAAAOA/\",\"dtype\":\"float64\",\"order\":\"little\",\"shape\":[12]},\"TrainingElapsedTimeSeconds\":{\"__ndarray__\":\"AAAAAAAAWkAAAAAAAABaQAAAAAAAQFxAAAAAAADAXUAAAAAAAABBQAAAAAAAAEdAAAAAAACAQ0AAAAAAAAA/QAAAAAAAAEFAAAAAAACAQ0AAAAAAAIBFQAAAAAAAgENA\",\"dtype\":\"float64\",\"order\":\"little\",\"shape\":[12]},\"TrainingEndTime\":{\"__ndarray__\":\"AAAERodleUIAAIFGh2V5QgAA8kiHZXlCAIAYTYdleUIAACdVh2V5QgAAFViHZXlCAIDcVodleUIAABVYh2V5QgCAHWGHZXlCAIAFZYdleUIAALtmh2V5QgCA/2WHZXlC\",\"dtype\":\"float64\",\"order\":\"little\",\"shape\":[12]},\"TrainingJobName\":[\"lab-3-job-04211302-001-4b9cc9f7\",\"lab-3-job-04211302-002-62b93a40\",\"lab-3-job-04211302-003-fe9ded4f\",\"lab-3-job-04211302-004-fadc1a15\",\"lab-3-job-04211302-006-cc1e0ccf\",\"lab-3-job-04211302-005-10d0017a\",\"lab-3-job-04211302-007-dfb390b1\",\"lab-3-job-04211302-008-355d579b\",\"lab-3-job-04211302-009-43727dc5\",\"lab-3-job-04211302-010-79cd83c8\",\"lab-3-job-04211302-011-9723d39c\",\"lab-3-job-04211302-012-eb5d720a\"],\"TrainingJobStatus\":[\"Completed\",\"Completed\",\"Stopped\",\"Completed\",\"Completed\",\"Stopped\",\"Completed\",\"Stopped\",\"Completed\",\"Completed\",\"Stopped\",\"Completed\"],\"TrainingStartTime\":{\"__ndarray__\":\"AACgLIdleUIAAB0th2V5QgCAWy2HZXlCAAALMIdleUIAANpMh2V5QgAA2kyHZXlCAABXTYdleUIAgINQh2V5QgCA0FiHZXlCAACAW4dleUIAgDtch2V5QgAAelyHZXlC\",\"dtype\":\"float64\",\"order\":\"little\",\"shape\":[12]},\"alpha\":{\"__ndarray__\":\"6pJuK31s/D9QprC5jun9P2CD1gsY0Nk/8pxnZmC65z9A0aJArsjTP1ipoOhwCsA/8PDNcjJOuT+0WX+nExHjP0ZIO143Wec/xMqVSCcB9z8AAAAAAAAAQAAAAAAAAABA\",\"dtype\":\"float64\",\"order\":\"little\",\"shape\":[12]},\"eta\":{\"__ndarray__\":\"sh2vYK1i5D9bTL6GwC3gP8BbBBwOaK8/aF4VYC7owj+O+m0MlDroP4Dp2ixa49o/VmxQiawT1z849iEzr066P/BIIxymZ+M/jdrADhcX0j8AAAAAAADwPwAAAAAAAJA8\",\"dtype\":\"float64\",\"order\":\"little\",\"shape\":[12]},\"index\":[11,10,9,8,6,7,5,4,3,2,1,0],\"max_depth\":{\"__ndarray__\":\"AAAAAAAAIkAAAAAAAADwPwAAAAAAABhAAAAAAAAAJEAAAAAAAAAgQAAAAAAAACBAAAAAAAAAAEAAAAAAAAAYQAAAAAAAABhAAAAAAAAAGEAAAAAAAAAYQAAAAAAAABhA\",\"dtype\":\"float64\",\"order\":\"little\",\"shape\":[12]},\"min_child_weight\":{\"__ndarray__\":\"tx6llTzuFUBw5MMkSf0NQDDT0vMa/ANAcfLzHVqRB0DQGm5Ph+32P78ZZxvMER9AEtIPaN/2/j9xS1C+8qMHQASaq/IvJQpAQpuMd3IFHkDobPJ75U8CQC5EB1rUBRpA\",\"dtype\":\"float64\",\"order\":\"little\",\"shape\":[12]},\"num_round\":{\"__ndarray__\":\"AAAAAACgeEAAAAAAAAB6QAAAAAAAyIdAAAAAAADoi0AAAAAAACBmQAAAAAAAWIJAAAAAAACgf0AAAAAAABB5QAAAAAAAgGlAAAAAAAAQekAAAAAAALCDQAAAAAAAoGBA\",\"dtype\":\"float64\",\"order\":\"little\",\"shape\":[12]}},\"selected\":{\"id\":\"1500\"},\"selection_policy\":{\"id\":\"1499\"}},\"id\":\"1277\",\"type\":\"ColumnDataSource\"},{\"attributes\":{\"axis_label\":\"validation:auc\",\"coordinates\":null,\"formatter\":{\"id\":\"1471\"},\"group\":null,\"major_label_policy\":{\"id\":\"1472\"},\"ticker\":{\"id\":\"1258\"}},\"id\":\"1257\",\"type\":\"LinearAxis\"},{\"attributes\":{},\"id\":\"1258\",\"type\":\"BasicTicker\"},{\"attributes\":{\"coordinates\":null,\"data_source\":{\"id\":\"1325\"},\"glyph\":{\"id\":\"1327\"},\"group\":null,\"hover_glyph\":null,\"muted_glyph\":{\"id\":\"1329\"},\"nonselection_glyph\":{\"id\":\"1328\"},\"view\":{\"id\":\"1331\"}},\"id\":\"1330\",\"type\":\"GlyphRenderer\"},{\"attributes\":{\"source\":{\"id\":\"1325\"}},\"id\":\"1331\",\"type\":\"CDSView\"},{\"attributes\":{\"data\":{\"x\":{\"__ndarray__\":\"6pJuK31s/D9QprC5jun9P2CD1gsY0Nk/8pxnZmC65z9A0aJArsjTP1ipoOhwCsA/8PDNcjJOuT+0WX+nExHjP0ZIO143Wec/xMqVSCcB9z8AAAAAAAAAQAAAAAAAAABA\",\"dtype\":\"float64\",\"order\":\"little\",\"shape\":[12]},\"y\":[0.8154495123085155,0.8100731806458424,0.8948026617819126,0.8752599710023332,0.9002464992325,0.9108683462763383,0.9123979663110644,0.8836778461849798,0.8759453671836361,0.8350228284708929,0.8025329629628863,0.8025329629628863]},\"selected\":{\"id\":\"1507\"},\"selection_policy\":{\"id\":\"1506\"}},\"id\":\"1332\",\"type\":\"ColumnDataSource\"},{\"attributes\":{\"axis\":{\"id\":\"1253\"},\"coordinates\":null,\"group\":null,\"ticker\":null},\"id\":\"1256\",\"type\":\"Grid\"},{\"attributes\":{\"source\":{\"id\":\"1229\"}},\"id\":\"1235\",\"type\":\"CDSView\"},{\"attributes\":{},\"id\":\"1210\",\"type\":\"BasicTicker\"},{\"attributes\":{},\"id\":\"1254\",\"type\":\"BasicTicker\"},{\"attributes\":{},\"id\":\"1203\",\"type\":\"LinearScale\"},{\"attributes\":{\"axis\":{\"id\":\"1257\"},\"coordinates\":null,\"dimension\":1,\"group\":null,\"ticker\":null},\"id\":\"1260\",\"type\":\"Grid\"},{\"attributes\":{\"coordinates\":null,\"data_source\":{\"id\":\"1236\"},\"glyph\":{\"id\":\"1237\"},\"group\":null,\"hover_glyph\":null,\"muted_glyph\":{\"id\":\"1239\"},\"nonselection_glyph\":{\"id\":\"1238\"},\"view\":{\"id\":\"1241\"}},\"id\":\"1240\",\"type\":\"GlyphRenderer\"},{\"attributes\":{\"coordinates\":null,\"data_source\":{\"id\":\"1229\"},\"glyph\":{\"id\":\"1231\"},\"group\":null,\"hover_glyph\":null,\"muted_glyph\":{\"id\":\"1233\"},\"nonselection_glyph\":{\"id\":\"1232\"},\"view\":{\"id\":\"1235\"}},\"id\":\"1234\",\"type\":\"GlyphRenderer\"},{\"attributes\":{},\"id\":\"1297\",\"type\":\"LinearScale\"},{\"attributes\":{},\"id\":\"1511\",\"type\":\"UnionRenderers\"},{\"attributes\":{\"axis_label\":\"num_round\",\"coordinates\":null,\"formatter\":{\"id\":\"1474\"},\"group\":null,\"major_label_policy\":{\"id\":\"1475\"},\"ticker\":{\"id\":\"1254\"}},\"id\":\"1253\",\"type\":\"LinearAxis\"},{\"attributes\":{\"callback\":null,\"tooltips\":[[\"FinalObjectiveValue\",\"@y\"],[\"alpha\",\"@x\"]]},\"id\":\"1323\",\"type\":\"HoverTool\"},{\"attributes\":{},\"id\":\"1197\",\"type\":\"DataRange1d\"},{\"attributes\":{},\"id\":\"1251\",\"type\":\"LinearScale\"},{\"attributes\":{\"source\":{\"id\":\"1236\"}},\"id\":\"1241\",\"type\":\"CDSView\"},{\"attributes\":{},\"id\":\"1293\",\"type\":\"DataRange1d\"},{\"attributes\":{},\"id\":\"1306\",\"type\":\"BasicTicker\"},{\"attributes\":{},\"id\":\"1493\",\"type\":\"AllLabels\"},{\"attributes\":{\"source\":{\"id\":\"1277\"}},\"id\":\"1283\",\"type\":\"CDSView\"},{\"attributes\":{},\"id\":\"1469\",\"type\":\"AllLabels\"},{\"attributes\":{\"fill_color\":{\"value\":\"#1f77b4\"},\"line_color\":{\"value\":\"#1f77b4\"},\"x\":{\"field\":\"num_round\"},\"y\":{\"field\":\"FinalObjectiveValue\"}},\"id\":\"1279\",\"type\":\"Circle\"},{\"attributes\":{},\"id\":\"1295\",\"type\":\"DataRange1d\"},{\"attributes\":{},\"id\":\"1487\",\"type\":\"AllLabels\"},{\"attributes\":{},\"id\":\"1261\",\"type\":\"PanTool\"},{\"attributes\":{\"callback\":null,\"tooltips\":[[\"FinalObjectiveValue\",\"@y\"],[\"max_depth\",\"@x\"]]},\"id\":\"1227\",\"type\":\"HoverTool\"},{\"attributes\":{\"fill_color\":{\"value\":\"#1f77b4\"},\"line_color\":{\"value\":\"#1f77b4\"},\"x\":{\"field\":\"max_depth\"},\"y\":{\"field\":\"FinalObjectiveValue\"}},\"id\":\"1231\",\"type\":\"Circle\"},{\"attributes\":{\"callback\":null,\"tooltips\":[[\"FinalObjectiveValue\",\"@y\"],[\"num_round\",\"@x\"]]},\"id\":\"1275\",\"type\":\"HoverTool\"},{\"attributes\":{},\"id\":\"1247\",\"type\":\"DataRange1d\"},{\"attributes\":{},\"id\":\"1249\",\"type\":\"LinearScale\"},{\"attributes\":{},\"id\":\"1245\",\"type\":\"DataRange1d\"},{\"attributes\":{},\"id\":\"1495\",\"type\":\"Selection\"},{\"attributes\":{\"axis_label\":\"validation:auc\",\"coordinates\":null,\"formatter\":{\"id\":\"1477\"},\"group\":null,\"major_label_policy\":{\"id\":\"1478\"},\"ticker\":{\"id\":\"1306\"}},\"id\":\"1305\",\"type\":\"LinearAxis\"},{\"attributes\":{\"coordinates\":null,\"group\":null,\"text\":\"Objective vs num_round\"},\"id\":\"1243\",\"type\":\"Title\"},{\"attributes\":{},\"id\":\"1489\",\"type\":\"BasicTickFormatter\"},{\"attributes\":{\"data\":{\"x\":{\"__ndarray__\":\"AAAAAACgeEAAAAAAAAB6QAAAAAAAyIdAAAAAAADoi0AAAAAAACBmQAAAAAAAWIJAAAAAAACgf0AAAAAAABB5QAAAAAAAgGlAAAAAAAAQekAAAAAAALCDQAAAAAAAoGBA\",\"dtype\":\"float64\",\"order\":\"little\",\"shape\":[12]},\"y\":[0.8451280357208226,0.8500585298887445,0.9273776429766113,0.9569606079841428,0.7964954341554108,0.8883819163757741,0.8702287333029707,0.8466968293197069,0.8025464951796787,0.8502826432600138,0.8980187913403488,0.786634445819567]},\"selected\":{\"id\":\"1502\"},\"selection_policy\":{\"id\":\"1501\"}},\"id\":\"1284\",\"type\":\"ColumnDataSource\"},{\"attributes\":{},\"id\":\"1466\",\"type\":\"AllLabels\"},{\"attributes\":{},\"id\":\"1465\",\"type\":\"BasicTickFormatter\"},{\"attributes\":{},\"id\":\"1360\",\"type\":\"SaveTool\"},{\"attributes\":{\"line_color\":\"green\",\"line_width\":2,\"x\":{\"field\":\"x\"},\"y\":{\"field\":\"y\"}},\"id\":\"1285\",\"type\":\"Line\"},{\"attributes\":{},\"id\":\"1517\",\"type\":\"Selection\"},{\"attributes\":{},\"id\":\"1362\",\"type\":\"HelpTool\"},{\"attributes\":{},\"id\":\"1309\",\"type\":\"PanTool\"},{\"attributes\":{},\"id\":\"1472\",\"type\":\"AllLabels\"},{\"attributes\":{},\"id\":\"1199\",\"type\":\"DataRange1d\"},{\"attributes\":{},\"id\":\"1480\",\"type\":\"BasicTickFormatter\"},{\"attributes\":{\"overlay\":{\"id\":\"1267\"}},\"id\":\"1263\",\"type\":\"BoxZoomTool\"},{\"attributes\":{\"coordinates\":null,\"data_source\":{\"id\":\"1380\"},\"glyph\":{\"id\":\"1381\"},\"group\":null,\"hover_glyph\":null,\"muted_glyph\":{\"id\":\"1383\"},\"nonselection_glyph\":{\"id\":\"1382\"},\"view\":{\"id\":\"1385\"}},\"id\":\"1384\",\"type\":\"GlyphRenderer\"},{\"attributes\":{},\"id\":\"1496\",\"type\":\"UnionRenderers\"},{\"attributes\":{},\"id\":\"1264\",\"type\":\"SaveTool\"},{\"attributes\":{},\"id\":\"1361\",\"type\":\"ResetTool\"},{\"attributes\":{},\"id\":\"1516\",\"type\":\"UnionRenderers\"},{\"attributes\":{},\"id\":\"1512\",\"type\":\"Selection\"},{\"attributes\":{},\"id\":\"1490\",\"type\":\"AllLabels\"},{\"attributes\":{\"bottom_units\":\"screen\",\"coordinates\":null,\"fill_alpha\":0.5,\"fill_color\":\"lightgrey\",\"group\":null,\"left_units\":\"screen\",\"level\":\"overlay\",\"line_alpha\":1.0,\"line_color\":\"black\",\"line_dash\":[4,4],\"line_width\":2,\"right_units\":\"screen\",\"syncable\":false,\"top_units\":\"screen\"},\"id\":\"1411\",\"type\":\"BoxAnnotation\"},{\"attributes\":{},\"id\":\"1265\",\"type\":\"ResetTool\"},{\"attributes\":{},\"id\":\"1410\",\"type\":\"HelpTool\"},{\"attributes\":{\"axis_label\":\"validation:auc\",\"coordinates\":null,\"formatter\":{\"id\":\"1465\"},\"group\":null,\"major_label_policy\":{\"id\":\"1466\"},\"ticker\":{\"id\":\"1210\"}},\"id\":\"1209\",\"type\":\"LinearAxis\"},{\"attributes\":{\"tools\":[{\"id\":\"1309\"},{\"id\":\"1310\"},{\"id\":\"1311\"},{\"id\":\"1312\"},{\"id\":\"1313\"},{\"id\":\"1314\"},{\"id\":\"1323\"}]},\"id\":\"1316\",\"type\":\"Toolbar\"},{\"attributes\":{},\"id\":\"1408\",\"type\":\"SaveTool\"},{\"attributes\":{},\"id\":\"1483\",\"type\":\"BasicTickFormatter\"},{\"attributes\":{},\"id\":\"1266\",\"type\":\"HelpTool\"},{\"attributes\":{\"axis\":{\"id\":\"1301\"},\"coordinates\":null,\"group\":null,\"ticker\":null},\"id\":\"1304\",\"type\":\"Grid\"},{\"attributes\":{},\"id\":\"1409\",\"type\":\"ResetTool\"},{\"attributes\":{\"fill_alpha\":{\"value\":0.1},\"fill_color\":{\"value\":\"#1f77b4\"},\"hatch_alpha\":{\"value\":0.1},\"line_alpha\":{\"value\":0.1},\"line_color\":{\"value\":\"#1f77b4\"},\"x\":{\"field\":\"max_depth\"},\"y\":{\"field\":\"FinalObjectiveValue\"}},\"id\":\"1232\",\"type\":\"Circle\"},{\"attributes\":{},\"id\":\"1492\",\"type\":\"BasicTickFormatter\"},{\"attributes\":{\"tools\":[{\"id\":\"1261\"},{\"id\":\"1262\"},{\"id\":\"1263\"},{\"id\":\"1264\"},{\"id\":\"1265\"},{\"id\":\"1266\"},{\"id\":\"1275\"}]},\"id\":\"1268\",\"type\":\"Toolbar\"},{\"attributes\":{},\"id\":\"1474\",\"type\":\"BasicTickFormatter\"},{\"attributes\":{\"bottom_units\":\"screen\",\"coordinates\":null,\"fill_alpha\":0.5,\"fill_color\":\"lightgrey\",\"group\":null,\"left_units\":\"screen\",\"level\":\"overlay\",\"line_alpha\":1.0,\"line_color\":\"black\",\"line_dash\":[4,4],\"line_width\":2,\"right_units\":\"screen\",\"syncable\":false,\"top_units\":\"screen\"},\"id\":\"1267\",\"type\":\"BoxAnnotation\"},{\"attributes\":{\"source\":{\"id\":\"1428\"}},\"id\":\"1433\",\"type\":\"CDSView\"},{\"attributes\":{\"data\":{\"FinalObjectiveValue\":{\"__ndarray__\":\"AAAAYN5x7D8AAABAthDtPwAAAKB4QO0/AAAA4GUx7D8AAADA93DrPwAAAEBNLes/AAAAYBVv7T8AAADggVbtPwAAACABh+w/AAAAYBn/7D8AAABgR1XsPwAAAAAAAOA/\",\"dtype\":\"float64\",\"order\":\"little\",\"shape\":[12]},\"TrainingElapsedTimeSeconds\":{\"__ndarray__\":\"AAAAAAAAWkAAAAAAAABaQAAAAAAAQFxAAAAAAADAXUAAAAAAAABBQAAAAAAAAEdAAAAAAACAQ0AAAAAAAAA/QAAAAAAAAEFAAAAAAACAQ0AAAAAAAIBFQAAAAAAAgENA\",\"dtype\":\"float64\",\"order\":\"little\",\"shape\":[12]},\"TrainingEndTime\":{\"__ndarray__\":\"AAAERodleUIAAIFGh2V5QgAA8kiHZXlCAIAYTYdleUIAACdVh2V5QgAAFViHZXlCAIDcVodleUIAABVYh2V5QgCAHWGHZXlCAIAFZYdleUIAALtmh2V5QgCA/2WHZXlC\",\"dtype\":\"float64\",\"order\":\"little\",\"shape\":[12]},\"TrainingJobName\":[\"lab-3-job-04211302-001-4b9cc9f7\",\"lab-3-job-04211302-002-62b93a40\",\"lab-3-job-04211302-003-fe9ded4f\",\"lab-3-job-04211302-004-fadc1a15\",\"lab-3-job-04211302-006-cc1e0ccf\",\"lab-3-job-04211302-005-10d0017a\",\"lab-3-job-04211302-007-dfb390b1\",\"lab-3-job-04211302-008-355d579b\",\"lab-3-job-04211302-009-43727dc5\",\"lab-3-job-04211302-010-79cd83c8\",\"lab-3-job-04211302-011-9723d39c\",\"lab-3-job-04211302-012-eb5d720a\"],\"TrainingJobStatus\":[\"Completed\",\"Completed\",\"Stopped\",\"Completed\",\"Completed\",\"Stopped\",\"Completed\",\"Stopped\",\"Completed\",\"Completed\",\"Stopped\",\"Completed\"],\"TrainingStartTime\":{\"__ndarray__\":\"AACgLIdleUIAAB0th2V5QgCAWy2HZXlCAAALMIdleUIAANpMh2V5QgAA2kyHZXlCAABXTYdleUIAgINQh2V5QgCA0FiHZXlCAACAW4dleUIAgDtch2V5QgAAelyHZXlC\",\"dtype\":\"float64\",\"order\":\"little\",\"shape\":[12]},\"alpha\":{\"__ndarray__\":\"6pJuK31s/D9QprC5jun9P2CD1gsY0Nk/8pxnZmC65z9A0aJArsjTP1ipoOhwCsA/8PDNcjJOuT+0WX+nExHjP0ZIO143Wec/xMqVSCcB9z8AAAAAAAAAQAAAAAAAAABA\",\"dtype\":\"float64\",\"order\":\"little\",\"shape\":[12]},\"eta\":{\"__ndarray__\":\"sh2vYK1i5D9bTL6GwC3gP8BbBBwOaK8/aF4VYC7owj+O+m0MlDroP4Dp2ixa49o/VmxQiawT1z849iEzr066P/BIIxymZ+M/jdrADhcX0j8AAAAAAADwPwAAAAAAAJA8\",\"dtype\":\"float64\",\"order\":\"little\",\"shape\":[12]},\"index\":[11,10,9,8,6,7,5,4,3,2,1,0],\"max_depth\":{\"__ndarray__\":\"AAAAAAAAIkAAAAAAAADwPwAAAAAAABhAAAAAAAAAJEAAAAAAAAAgQAAAAAAAACBAAAAAAAAAAEAAAAAAAAAYQAAAAAAAABhAAAAAAAAAGEAAAAAAAAAYQAAAAAAAABhA\",\"dtype\":\"float64\",\"order\":\"little\",\"shape\":[12]},\"min_child_weight\":{\"__ndarray__\":\"tx6llTzuFUBw5MMkSf0NQDDT0vMa/ANAcfLzHVqRB0DQGm5Ph+32P78ZZxvMER9AEtIPaN/2/j9xS1C+8qMHQASaq/IvJQpAQpuMd3IFHkDobPJ75U8CQC5EB1rUBRpA\",\"dtype\":\"float64\",\"order\":\"little\",\"shape\":[12]},\"num_round\":{\"__ndarray__\":\"AAAAAACgeEAAAAAAAAB6QAAAAAAAyIdAAAAAAADoi0AAAAAAACBmQAAAAAAAWIJAAAAAAACgf0AAAAAAABB5QAAAAAAAgGlAAAAAAAAQekAAAAAAALCDQAAAAAAAoGBA\",\"dtype\":\"float64\",\"order\":\"little\",\"shape\":[12]}},\"selected\":{\"id\":\"1505\"},\"selection_policy\":{\"id\":\"1504\"}},\"id\":\"1325\",\"type\":\"ColumnDataSource\"},{\"attributes\":{\"fill_alpha\":{\"value\":0.1},\"fill_color\":{\"value\":\"#1f77b4\"},\"hatch_alpha\":{\"value\":0.1},\"line_alpha\":{\"value\":0.1},\"line_color\":{\"value\":\"#1f77b4\"},\"x\":{\"field\":\"alpha\"},\"y\":{\"field\":\"FinalObjectiveValue\"}},\"id\":\"1328\",\"type\":\"Circle\"},{\"attributes\":{\"line_alpha\":0.2,\"line_color\":\"green\",\"line_width\":2,\"x\":{\"field\":\"x\"},\"y\":{\"field\":\"y\"}},\"id\":\"1431\",\"type\":\"Line\"},{\"attributes\":{},\"id\":\"1481\",\"type\":\"AllLabels\"},{\"attributes\":{\"bottom_units\":\"screen\",\"coordinates\":null,\"fill_alpha\":0.5,\"fill_color\":\"lightgrey\",\"group\":null,\"left_units\":\"screen\",\"level\":\"overlay\",\"line_alpha\":1.0,\"line_color\":\"black\",\"line_dash\":[4,4],\"line_width\":2,\"right_units\":\"screen\",\"syncable\":false,\"top_units\":\"screen\"},\"id\":\"1363\",\"type\":\"BoxAnnotation\"},{\"attributes\":{\"axis\":{\"id\":\"1205\"},\"coordinates\":null,\"group\":null,\"ticker\":null},\"id\":\"1208\",\"type\":\"Grid\"},{\"attributes\":{},\"id\":\"1302\",\"type\":\"BasicTicker\"},{\"attributes\":{\"coordinates\":null,\"group\":null,\"text\":\"Objective vs alpha\"},\"id\":\"1291\",\"type\":\"Title\"},{\"attributes\":{\"coordinates\":null,\"data_source\":{\"id\":\"1421\"},\"glyph\":{\"id\":\"1423\"},\"group\":null,\"hover_glyph\":null,\"muted_glyph\":{\"id\":\"1425\"},\"nonselection_glyph\":{\"id\":\"1424\"},\"view\":{\"id\":\"1427\"}},\"id\":\"1426\",\"type\":\"GlyphRenderer\"},{\"attributes\":{\"axis\":{\"id\":\"1305\"},\"coordinates\":null,\"dimension\":1,\"group\":null,\"ticker\":null},\"id\":\"1308\",\"type\":\"Grid\"},{\"attributes\":{\"fill_color\":{\"value\":\"#1f77b4\"},\"line_color\":{\"value\":\"#1f77b4\"},\"x\":{\"field\":\"eta\"},\"y\":{\"field\":\"FinalObjectiveValue\"}},\"id\":\"1375\",\"type\":\"Circle\"},{\"attributes\":{},\"id\":\"1405\",\"type\":\"PanTool\"},{\"attributes\":{},\"id\":\"1514\",\"type\":\"UnionRenderers\"},{\"attributes\":{},\"id\":\"1478\",\"type\":\"AllLabels\"},{\"attributes\":{\"data\":{\"FinalObjectiveValue\":{\"__ndarray__\":\"AAAAYN5x7D8AAABAthDtPwAAAKB4QO0/AAAA4GUx7D8AAADA93DrPwAAAEBNLes/AAAAYBVv7T8AAADggVbtPwAAACABh+w/AAAAYBn/7D8AAABgR1XsPwAAAAAAAOA/\",\"dtype\":\"float64\",\"order\":\"little\",\"shape\":[12]},\"TrainingElapsedTimeSeconds\":{\"__ndarray__\":\"AAAAAAAAWkAAAAAAAABaQAAAAAAAQFxAAAAAAADAXUAAAAAAAABBQAAAAAAAAEdAAAAAAACAQ0AAAAAAAAA/QAAAAAAAAEFAAAAAAACAQ0AAAAAAAIBFQAAAAAAAgENA\",\"dtype\":\"float64\",\"order\":\"little\",\"shape\":[12]},\"TrainingEndTime\":{\"__ndarray__\":\"AAAERodleUIAAIFGh2V5QgAA8kiHZXlCAIAYTYdleUIAACdVh2V5QgAAFViHZXlCAIDcVodleUIAABVYh2V5QgCAHWGHZXlCAIAFZYdleUIAALtmh2V5QgCA/2WHZXlC\",\"dtype\":\"float64\",\"order\":\"little\",\"shape\":[12]},\"TrainingJobName\":[\"lab-3-job-04211302-001-4b9cc9f7\",\"lab-3-job-04211302-002-62b93a40\",\"lab-3-job-04211302-003-fe9ded4f\",\"lab-3-job-04211302-004-fadc1a15\",\"lab-3-job-04211302-006-cc1e0ccf\",\"lab-3-job-04211302-005-10d0017a\",\"lab-3-job-04211302-007-dfb390b1\",\"lab-3-job-04211302-008-355d579b\",\"lab-3-job-04211302-009-43727dc5\",\"lab-3-job-04211302-010-79cd83c8\",\"lab-3-job-04211302-011-9723d39c\",\"lab-3-job-04211302-012-eb5d720a\"],\"TrainingJobStatus\":[\"Completed\",\"Completed\",\"Stopped\",\"Completed\",\"Completed\",\"Stopped\",\"Completed\",\"Stopped\",\"Completed\",\"Completed\",\"Stopped\",\"Completed\"],\"TrainingStartTime\":{\"__ndarray__\":\"AACgLIdleUIAAB0th2V5QgCAWy2HZXlCAAALMIdleUIAANpMh2V5QgAA2kyHZXlCAABXTYdleUIAgINQh2V5QgCA0FiHZXlCAACAW4dleUIAgDtch2V5QgAAelyHZXlC\",\"dtype\":\"float64\",\"order\":\"little\",\"shape\":[12]},\"alpha\":{\"__ndarray__\":\"6pJuK31s/D9QprC5jun9P2CD1gsY0Nk/8pxnZmC65z9A0aJArsjTP1ipoOhwCsA/8PDNcjJOuT+0WX+nExHjP0ZIO143Wec/xMqVSCcB9z8AAAAAAAAAQAAAAAAAAABA\",\"dtype\":\"float64\",\"order\":\"little\",\"shape\":[12]},\"eta\":{\"__ndarray__\":\"sh2vYK1i5D9bTL6GwC3gP8BbBBwOaK8/aF4VYC7owj+O+m0MlDroP4Dp2ixa49o/VmxQiawT1z849iEzr066P/BIIxymZ+M/jdrADhcX0j8AAAAAAADwPwAAAAAAAJA8\",\"dtype\":\"float64\",\"order\":\"little\",\"shape\":[12]},\"index\":[11,10,9,8,6,7,5,4,3,2,1,0],\"max_depth\":{\"__ndarray__\":\"AAAAAAAAIkAAAAAAAADwPwAAAAAAABhAAAAAAAAAJEAAAAAAAAAgQAAAAAAAACBAAAAAAAAAAEAAAAAAAAAYQAAAAAAAABhAAAAAAAAAGEAAAAAAAAAYQAAAAAAAABhA\",\"dtype\":\"float64\",\"order\":\"little\",\"shape\":[12]},\"min_child_weight\":{\"__ndarray__\":\"tx6llTzuFUBw5MMkSf0NQDDT0vMa/ANAcfLzHVqRB0DQGm5Ph+32P78ZZxvMER9AEtIPaN/2/j9xS1C+8qMHQASaq/IvJQpAQpuMd3IFHkDobPJ75U8CQC5EB1rUBRpA\",\"dtype\":\"float64\",\"order\":\"little\",\"shape\":[12]},\"num_round\":{\"__ndarray__\":\"AAAAAACgeEAAAAAAAAB6QAAAAAAAyIdAAAAAAADoi0AAAAAAACBmQAAAAAAAWIJAAAAAAACgf0AAAAAAABB5QAAAAAAAgGlAAAAAAAAQekAAAAAAALCDQAAAAAAAoGBA\",\"dtype\":\"float64\",\"order\":\"little\",\"shape\":[12]}},\"selected\":{\"id\":\"1510\"},\"selection_policy\":{\"id\":\"1509\"}},\"id\":\"1373\",\"type\":\"ColumnDataSource\"},{\"attributes\":{\"coordinates\":null,\"data_source\":{\"id\":\"1373\"},\"glyph\":{\"id\":\"1375\"},\"group\":null,\"hover_glyph\":null,\"muted_glyph\":{\"id\":\"1377\"},\"nonselection_glyph\":{\"id\":\"1376\"},\"view\":{\"id\":\"1379\"}},\"id\":\"1378\",\"type\":\"GlyphRenderer\"},{\"attributes\":{},\"id\":\"1389\",\"type\":\"DataRange1d\"},{\"attributes\":{},\"id\":\"1504\",\"type\":\"UnionRenderers\"},{\"attributes\":{\"below\":[{\"id\":\"1301\"}],\"center\":[{\"id\":\"1304\"},{\"id\":\"1308\"}],\"height\":500,\"left\":[{\"id\":\"1305\"}],\"renderers\":[{\"id\":\"1330\"},{\"id\":\"1336\"}],\"title\":{\"id\":\"1291\"},\"toolbar\":{\"id\":\"1316\"},\"width\":500,\"x_range\":{\"id\":\"1293\"},\"x_scale\":{\"id\":\"1297\"},\"y_range\":{\"id\":\"1295\"},\"y_scale\":{\"id\":\"1299\"}},\"id\":\"1290\",\"subtype\":\"Figure\",\"type\":\"Plot\"},{\"attributes\":{},\"id\":\"1206\",\"type\":\"BasicTicker\"},{\"attributes\":{},\"id\":\"1358\",\"type\":\"WheelZoomTool\"},{\"attributes\":{},\"id\":\"1500\",\"type\":\"Selection\"},{\"attributes\":{\"fill_alpha\":{\"value\":0.2},\"fill_color\":{\"value\":\"#1f77b4\"},\"hatch_alpha\":{\"value\":0.2},\"line_alpha\":{\"value\":0.2},\"line_color\":{\"value\":\"#1f77b4\"},\"x\":{\"field\":\"min_child_weight\"},\"y\":{\"field\":\"FinalObjectiveValue\"}},\"id\":\"1425\",\"type\":\"Circle\"},{\"attributes\":{\"axis\":{\"id\":\"1349\"},\"coordinates\":null,\"group\":null,\"ticker\":null},\"id\":\"1352\",\"type\":\"Grid\"},{\"attributes\":{},\"id\":\"1350\",\"type\":\"BasicTicker\"},{\"attributes\":{\"data\":{\"x\":{\"__ndarray__\":\"tx6llTzuFUBw5MMkSf0NQDDT0vMa/ANAcfLzHVqRB0DQGm5Ph+32P78ZZxvMER9AEtIPaN/2/j9xS1C+8qMHQASaq/IvJQpAQpuMd3IFHkDobPJ75U8CQC5EB1rUBRpA\",\"dtype\":\"float64\",\"order\":\"little\",\"shape\":[12]},\"y\":[0.8302436056054792,0.8655921914675271,0.8910862280261488,0.88195593735123,0.9127993360077672,0.7836675475079036,0.9025599156108572,0.8817708304694412,0.8753879250195671,0.7890098721700807,0.8953486267998323,0.809388089287955]},\"selected\":{\"id\":\"1517\"},\"selection_policy\":{\"id\":\"1516\"}},\"id\":\"1428\",\"type\":\"ColumnDataSource\"},{\"attributes\":{},\"id\":\"1354\",\"type\":\"BasicTicker\"},{\"attributes\":{\"axis\":{\"id\":\"1209\"},\"coordinates\":null,\"dimension\":1,\"group\":null,\"ticker\":null},\"id\":\"1212\",\"type\":\"Grid\"},{\"attributes\":{},\"id\":\"1391\",\"type\":\"DataRange1d\"},{\"attributes\":{\"axis_label\":\"validation:auc\",\"coordinates\":null,\"formatter\":{\"id\":\"1483\"},\"group\":null,\"major_label_policy\":{\"id\":\"1484\"},\"ticker\":{\"id\":\"1354\"}},\"id\":\"1353\",\"type\":\"LinearAxis\"},{\"attributes\":{\"axis\":{\"id\":\"1353\"},\"coordinates\":null,\"dimension\":1,\"group\":null,\"ticker\":null},\"id\":\"1356\",\"type\":\"Grid\"},{\"attributes\":{\"data\":{\"x\":{\"__ndarray__\":\"AAAAAAAAIkAAAAAAAADwPwAAAAAAABhAAAAAAAAAJEAAAAAAAAAgQAAAAAAAACBAAAAAAAAAAEAAAAAAAAAYQAAAAAAAABhAAAAAAAAAGEAAAAAAAAAYQAAAAAAAABhA\",\"dtype\":\"float64\",\"order\":\"little\",\"shape\":[12]},\"y\":[0.8469765438483315,0.883468680117465,0.8606610949492566,0.8424150268146898,0.8515380608819731,0.8515380608819731,0.8789071630838233,0.8606610949492566,0.8606610949492566,0.8606610949492566,0.8606610949492566,0.8606610949492566]},\"selected\":{\"id\":\"1497\"},\"selection_policy\":{\"id\":\"1496\"}},\"id\":\"1236\",\"type\":\"ColumnDataSource\"},{\"attributes\":{\"line_color\":\"green\",\"line_width\":2,\"x\":{\"field\":\"x\"},\"y\":{\"field\":\"y\"}},\"id\":\"1237\",\"type\":\"Line\"},{\"attributes\":{\"coordinates\":null,\"data_source\":{\"id\":\"1428\"},\"glyph\":{\"id\":\"1429\"},\"group\":null,\"hover_glyph\":null,\"muted_glyph\":{\"id\":\"1431\"},\"nonselection_glyph\":{\"id\":\"1430\"},\"view\":{\"id\":\"1433\"}},\"id\":\"1432\",\"type\":\"GlyphRenderer\"},{\"attributes\":{\"coordinates\":null,\"group\":null,\"text\":\"Objective vs min_child_weight\"},\"id\":\"1387\",\"type\":\"Title\"},{\"attributes\":{},\"id\":\"1201\",\"type\":\"LinearScale\"},{\"attributes\":{\"source\":{\"id\":\"1284\"}},\"id\":\"1289\",\"type\":\"CDSView\"},{\"attributes\":{},\"id\":\"1484\",\"type\":\"AllLabels\"},{\"attributes\":{\"line_alpha\":0.1,\"line_color\":\"green\",\"line_width\":2,\"x\":{\"field\":\"x\"},\"y\":{\"field\":\"y\"}},\"id\":\"1238\",\"type\":\"Line\"},{\"attributes\":{},\"id\":\"1502\",\"type\":\"Selection\"},{\"attributes\":{\"tools\":[{\"id\":\"1405\"},{\"id\":\"1406\"},{\"id\":\"1407\"},{\"id\":\"1408\"},{\"id\":\"1409\"},{\"id\":\"1410\"},{\"id\":\"1419\"}]},\"id\":\"1412\",\"type\":\"Toolbar\"},{\"attributes\":{},\"id\":\"1509\",\"type\":\"UnionRenderers\"},{\"attributes\":{\"coordinates\":null,\"data_source\":{\"id\":\"1277\"},\"glyph\":{\"id\":\"1279\"},\"group\":null,\"hover_glyph\":null,\"muted_glyph\":{\"id\":\"1281\"},\"nonselection_glyph\":{\"id\":\"1280\"},\"view\":{\"id\":\"1283\"}},\"id\":\"1282\",\"type\":\"GlyphRenderer\"},{\"attributes\":{\"coordinates\":null,\"group\":null,\"text\":\"Objective vs max_depth\"},\"id\":\"1195\",\"type\":\"Title\"},{\"attributes\":{},\"id\":\"1393\",\"type\":\"LinearScale\"},{\"attributes\":{\"coordinates\":null,\"data_source\":{\"id\":\"1284\"},\"glyph\":{\"id\":\"1285\"},\"group\":null,\"hover_glyph\":null,\"muted_glyph\":{\"id\":\"1287\"},\"nonselection_glyph\":{\"id\":\"1286\"},\"view\":{\"id\":\"1289\"}},\"id\":\"1288\",\"type\":\"GlyphRenderer\"},{\"attributes\":{\"line_alpha\":0.1,\"line_color\":\"green\",\"line_width\":2,\"x\":{\"field\":\"x\"},\"y\":{\"field\":\"y\"}},\"id\":\"1430\",\"type\":\"Line\"},{\"attributes\":{\"axis_label\":\"max_depth\",\"coordinates\":null,\"formatter\":{\"id\":\"1468\"},\"group\":null,\"major_label_policy\":{\"id\":\"1469\"},\"ticker\":{\"id\":\"1206\"}},\"id\":\"1205\",\"type\":\"LinearAxis\"},{\"attributes\":{\"below\":[{\"id\":\"1205\"}],\"center\":[{\"id\":\"1208\"},{\"id\":\"1212\"}],\"height\":500,\"left\":[{\"id\":\"1209\"}],\"renderers\":[{\"id\":\"1234\"},{\"id\":\"1240\"}],\"title\":{\"id\":\"1195\"},\"toolbar\":{\"id\":\"1220\"},\"width\":500,\"x_range\":{\"id\":\"1197\"},\"x_scale\":{\"id\":\"1201\"},\"y_range\":{\"id\":\"1199\"},\"y_scale\":{\"id\":\"1203\"}},\"id\":\"1194\",\"subtype\":\"Figure\",\"type\":\"Plot\"},{\"attributes\":{\"line_alpha\":0.2,\"line_color\":\"green\",\"line_width\":2,\"x\":{\"field\":\"x\"},\"y\":{\"field\":\"y\"}},\"id\":\"1287\",\"type\":\"Line\"},{\"attributes\":{},\"id\":\"1357\",\"type\":\"PanTool\"},{\"attributes\":{\"line_alpha\":0.1,\"line_color\":\"green\",\"line_width\":2,\"x\":{\"field\":\"x\"},\"y\":{\"field\":\"y\"}},\"id\":\"1286\",\"type\":\"Line\"},{\"attributes\":{},\"id\":\"1395\",\"type\":\"LinearScale\"},{\"attributes\":{},\"id\":\"1216\",\"type\":\"SaveTool\"},{\"attributes\":{},\"id\":\"1299\",\"type\":\"LinearScale\"},{\"attributes\":{},\"id\":\"1468\",\"type\":\"BasicTickFormatter\"},{\"attributes\":{\"overlay\":{\"id\":\"1363\"}},\"id\":\"1359\",\"type\":\"BoxZoomTool\"},{\"attributes\":{\"axis_label\":\"alpha\",\"coordinates\":null,\"formatter\":{\"id\":\"1480\"},\"group\":null,\"major_label_policy\":{\"id\":\"1481\"},\"ticker\":{\"id\":\"1302\"}},\"id\":\"1301\",\"type\":\"LinearAxis\"},{\"attributes\":{},\"id\":\"1497\",\"type\":\"Selection\"},{\"attributes\":{},\"id\":\"1501\",\"type\":\"UnionRenderers\"},{\"attributes\":{\"axis\":{\"id\":\"1397\"},\"coordinates\":null,\"group\":null,\"ticker\":null},\"id\":\"1400\",\"type\":\"Grid\"},{\"attributes\":{},\"id\":\"1475\",\"type\":\"AllLabels\"},{\"attributes\":{\"fill_alpha\":{\"value\":0.1},\"fill_color\":{\"value\":\"#1f77b4\"},\"hatch_alpha\":{\"value\":0.1},\"line_alpha\":{\"value\":0.1},\"line_color\":{\"value\":\"#1f77b4\"},\"x\":{\"field\":\"num_round\"},\"y\":{\"field\":\"FinalObjectiveValue\"}},\"id\":\"1280\",\"type\":\"Circle\"},{\"attributes\":{},\"id\":\"1486\",\"type\":\"BasicTickFormatter\"},{\"attributes\":{\"fill_alpha\":{\"value\":0.2},\"fill_color\":{\"value\":\"#1f77b4\"},\"hatch_alpha\":{\"value\":0.2},\"line_alpha\":{\"value\":0.2},\"line_color\":{\"value\":\"#1f77b4\"},\"x\":{\"field\":\"num_round\"},\"y\":{\"field\":\"FinalObjectiveValue\"}},\"id\":\"1281\",\"type\":\"Circle\"},{\"attributes\":{\"data\":{\"FinalObjectiveValue\":{\"__ndarray__\":\"AAAAYN5x7D8AAABAthDtPwAAAKB4QO0/AAAA4GUx7D8AAADA93DrPwAAAEBNLes/AAAAYBVv7T8AAADggVbtPwAAACABh+w/AAAAYBn/7D8AAABgR1XsPwAAAAAAAOA/\",\"dtype\":\"float64\",\"order\":\"little\",\"shape\":[12]},\"TrainingElapsedTimeSeconds\":{\"__ndarray__\":\"AAAAAAAAWkAAAAAAAABaQAAAAAAAQFxAAAAAAADAXUAAAAAAAABBQAAAAAAAAEdAAAAAAACAQ0AAAAAAAAA/QAAAAAAAAEFAAAAAAACAQ0AAAAAAAIBFQAAAAAAAgENA\",\"dtype\":\"float64\",\"order\":\"little\",\"shape\":[12]},\"TrainingEndTime\":{\"__ndarray__\":\"AAAERodleUIAAIFGh2V5QgAA8kiHZXlCAIAYTYdleUIAACdVh2V5QgAAFViHZXlCAIDcVodleUIAABVYh2V5QgCAHWGHZXlCAIAFZYdleUIAALtmh2V5QgCA/2WHZXlC\",\"dtype\":\"float64\",\"order\":\"little\",\"shape\":[12]},\"TrainingJobName\":[\"lab-3-job-04211302-001-4b9cc9f7\",\"lab-3-job-04211302-002-62b93a40\",\"lab-3-job-04211302-003-fe9ded4f\",\"lab-3-job-04211302-004-fadc1a15\",\"lab-3-job-04211302-006-cc1e0ccf\",\"lab-3-job-04211302-005-10d0017a\",\"lab-3-job-04211302-007-dfb390b1\",\"lab-3-job-04211302-008-355d579b\",\"lab-3-job-04211302-009-43727dc5\",\"lab-3-job-04211302-010-79cd83c8\",\"lab-3-job-04211302-011-9723d39c\",\"lab-3-job-04211302-012-eb5d720a\"],\"TrainingJobStatus\":[\"Completed\",\"Completed\",\"Stopped\",\"Completed\",\"Completed\",\"Stopped\",\"Completed\",\"Stopped\",\"Completed\",\"Completed\",\"Stopped\",\"Completed\"],\"TrainingStartTime\":{\"__ndarray__\":\"AACgLIdleUIAAB0th2V5QgCAWy2HZXlCAAALMIdleUIAANpMh2V5QgAA2kyHZXlCAABXTYdleUIAgINQh2V5QgCA0FiHZXlCAACAW4dleUIAgDtch2V5QgAAelyHZXlC\",\"dtype\":\"float64\",\"order\":\"little\",\"shape\":[12]},\"alpha\":{\"__ndarray__\":\"6pJuK31s/D9QprC5jun9P2CD1gsY0Nk/8pxnZmC65z9A0aJArsjTP1ipoOhwCsA/8PDNcjJOuT+0WX+nExHjP0ZIO143Wec/xMqVSCcB9z8AAAAAAAAAQAAAAAAAAABA\",\"dtype\":\"float64\",\"order\":\"little\",\"shape\":[12]},\"eta\":{\"__ndarray__\":\"sh2vYK1i5D9bTL6GwC3gP8BbBBwOaK8/aF4VYC7owj+O+m0MlDroP4Dp2ixa49o/VmxQiawT1z849iEzr066P/BIIxymZ+M/jdrADhcX0j8AAAAAAADwPwAAAAAAAJA8\",\"dtype\":\"float64\",\"order\":\"little\",\"shape\":[12]},\"index\":[11,10,9,8,6,7,5,4,3,2,1,0],\"max_depth\":{\"__ndarray__\":\"AAAAAAAAIkAAAAAAAADwPwAAAAAAABhAAAAAAAAAJEAAAAAAAAAgQAAAAAAAACBAAAAAAAAAAEAAAAAAAAAYQAAAAAAAABhAAAAAAAAAGEAAAAAAAAAYQAAAAAAAABhA\",\"dtype\":\"float64\",\"order\":\"little\",\"shape\":[12]},\"min_child_weight\":{\"__ndarray__\":\"tx6llTzuFUBw5MMkSf0NQDDT0vMa/ANAcfLzHVqRB0DQGm5Ph+32P78ZZxvMER9AEtIPaN/2/j9xS1C+8qMHQASaq/IvJQpAQpuMd3IFHkDobPJ75U8CQC5EB1rUBRpA\",\"dtype\":\"float64\",\"order\":\"little\",\"shape\":[12]},\"num_round\":{\"__ndarray__\":\"AAAAAACgeEAAAAAAAAB6QAAAAAAAyIdAAAAAAADoi0AAAAAAACBmQAAAAAAAWIJAAAAAAACgf0AAAAAAABB5QAAAAAAAgGlAAAAAAAAQekAAAAAAALCDQAAAAAAAoGBA\",\"dtype\":\"float64\",\"order\":\"little\",\"shape\":[12]}},\"selected\":{\"id\":\"1495\"},\"selection_policy\":{\"id\":\"1494\"}},\"id\":\"1229\",\"type\":\"ColumnDataSource\"},{\"attributes\":{},\"id\":\"1494\",\"type\":\"UnionRenderers\"},{\"attributes\":{\"tools\":[{\"id\":\"1357\"},{\"id\":\"1358\"},{\"id\":\"1359\"},{\"id\":\"1360\"},{\"id\":\"1361\"},{\"id\":\"1362\"},{\"id\":\"1371\"}]},\"id\":\"1364\",\"type\":\"Toolbar\"},{\"attributes\":{\"below\":[{\"id\":\"1397\"}],\"center\":[{\"id\":\"1400\"},{\"id\":\"1404\"}],\"height\":500,\"left\":[{\"id\":\"1401\"}],\"renderers\":[{\"id\":\"1426\"},{\"id\":\"1432\"}],\"title\":{\"id\":\"1387\"},\"toolbar\":{\"id\":\"1412\"},\"width\":500,\"x_range\":{\"id\":\"1389\"},\"x_scale\":{\"id\":\"1393\"},\"y_range\":{\"id\":\"1391\"},\"y_scale\":{\"id\":\"1395\"}},\"id\":\"1386\",\"subtype\":\"Figure\",\"type\":\"Plot\"},{\"attributes\":{\"tools\":[{\"id\":\"1213\"},{\"id\":\"1214\"},{\"id\":\"1215\"},{\"id\":\"1216\"},{\"id\":\"1217\"},{\"id\":\"1218\"},{\"id\":\"1227\"}]},\"id\":\"1220\",\"type\":\"Toolbar\"},{\"attributes\":{\"axis_label\":\"min_child_weight\",\"coordinates\":null,\"formatter\":{\"id\":\"1492\"},\"group\":null,\"major_label_policy\":{\"id\":\"1493\"},\"ticker\":{\"id\":\"1398\"}},\"id\":\"1397\",\"type\":\"LinearAxis\"},{\"attributes\":{\"line_color\":\"green\",\"line_width\":2,\"x\":{\"field\":\"x\"},\"y\":{\"field\":\"y\"}},\"id\":\"1429\",\"type\":\"Line\"},{\"attributes\":{\"axis_label\":\"eta\",\"coordinates\":null,\"formatter\":{\"id\":\"1486\"},\"group\":null,\"major_label_policy\":{\"id\":\"1487\"},\"ticker\":{\"id\":\"1350\"}},\"id\":\"1349\",\"type\":\"LinearAxis\"},{\"attributes\":{},\"id\":\"1213\",\"type\":\"PanTool\"},{\"attributes\":{\"overlay\":{\"id\":\"1411\"}},\"id\":\"1407\",\"type\":\"BoxZoomTool\"},{\"attributes\":{},\"id\":\"1310\",\"type\":\"WheelZoomTool\"},{\"attributes\":{\"fill_alpha\":{\"value\":0.1},\"fill_color\":{\"value\":\"#1f77b4\"},\"hatch_alpha\":{\"value\":0.1},\"line_alpha\":{\"value\":0.1},\"line_color\":{\"value\":\"#1f77b4\"},\"x\":{\"field\":\"min_child_weight\"},\"y\":{\"field\":\"FinalObjectiveValue\"}},\"id\":\"1424\",\"type\":\"Circle\"},{\"attributes\":{},\"id\":\"1506\",\"type\":\"UnionRenderers\"},{\"attributes\":{},\"id\":\"1510\",\"type\":\"Selection\"},{\"attributes\":{\"fill_color\":{\"value\":\"#1f77b4\"},\"line_color\":{\"value\":\"#1f77b4\"},\"x\":{\"field\":\"min_child_weight\"},\"y\":{\"field\":\"FinalObjectiveValue\"}},\"id\":\"1423\",\"type\":\"Circle\"},{\"attributes\":{\"overlay\":{\"id\":\"1315\"}},\"id\":\"1311\",\"type\":\"BoxZoomTool\"},{\"attributes\":{},\"id\":\"1507\",\"type\":\"Selection\"},{\"attributes\":{},\"id\":\"1477\",\"type\":\"BasicTickFormatter\"},{\"attributes\":{},\"id\":\"1312\",\"type\":\"SaveTool\"},{\"attributes\":{},\"id\":\"1398\",\"type\":\"BasicTicker\"},{\"attributes\":{},\"id\":\"1499\",\"type\":\"UnionRenderers\"},{\"attributes\":{},\"id\":\"1471\",\"type\":\"BasicTickFormatter\"},{\"attributes\":{},\"id\":\"1313\",\"type\":\"ResetTool\"},{\"attributes\":{\"source\":{\"id\":\"1380\"}},\"id\":\"1385\",\"type\":\"CDSView\"},{\"attributes\":{},\"id\":\"1314\",\"type\":\"HelpTool\"},{\"attributes\":{\"data\":{\"FinalObjectiveValue\":{\"__ndarray__\":\"AAAAYN5x7D8AAABAthDtPwAAAKB4QO0/AAAA4GUx7D8AAADA93DrPwAAAEBNLes/AAAAYBVv7T8AAADggVbtPwAAACABh+w/AAAAYBn/7D8AAABgR1XsPwAAAAAAAOA/\",\"dtype\":\"float64\",\"order\":\"little\",\"shape\":[12]},\"TrainingElapsedTimeSeconds\":{\"__ndarray__\":\"AAAAAAAAWkAAAAAAAABaQAAAAAAAQFxAAAAAAADAXUAAAAAAAABBQAAAAAAAAEdAAAAAAACAQ0AAAAAAAAA/QAAAAAAAAEFAAAAAAACAQ0AAAAAAAIBFQAAAAAAAgENA\",\"dtype\":\"float64\",\"order\":\"little\",\"shape\":[12]},\"TrainingEndTime\":{\"__ndarray__\":\"AAAERodleUIAAIFGh2V5QgAA8kiHZXlCAIAYTYdleUIAACdVh2V5QgAAFViHZXlCAIDcVodleUIAABVYh2V5QgCAHWGHZXlCAIAFZYdleUIAALtmh2V5QgCA/2WHZXlC\",\"dtype\":\"float64\",\"order\":\"little\",\"shape\":[12]},\"TrainingJobName\":[\"lab-3-job-04211302-001-4b9cc9f7\",\"lab-3-job-04211302-002-62b93a40\",\"lab-3-job-04211302-003-fe9ded4f\",\"lab-3-job-04211302-004-fadc1a15\",\"lab-3-job-04211302-006-cc1e0ccf\",\"lab-3-job-04211302-005-10d0017a\",\"lab-3-job-04211302-007-dfb390b1\",\"lab-3-job-04211302-008-355d579b\",\"lab-3-job-04211302-009-43727dc5\",\"lab-3-job-04211302-010-79cd83c8\",\"lab-3-job-04211302-011-9723d39c\",\"lab-3-job-04211302-012-eb5d720a\"],\"TrainingJobStatus\":[\"Completed\",\"Completed\",\"Stopped\",\"Completed\",\"Completed\",\"Stopped\",\"Completed\",\"Stopped\",\"Completed\",\"Completed\",\"Stopped\",\"Completed\"],\"TrainingStartTime\":{\"__ndarray__\":\"AACgLIdleUIAAB0th2V5QgCAWy2HZXlCAAALMIdleUIAANpMh2V5QgAA2kyHZXlCAABXTYdleUIAgINQh2V5QgCA0FiHZXlCAACAW4dleUIAgDtch2V5QgAAelyHZXlC\",\"dtype\":\"float64\",\"order\":\"little\",\"shape\":[12]},\"alpha\":{\"__ndarray__\":\"6pJuK31s/D9QprC5jun9P2CD1gsY0Nk/8pxnZmC65z9A0aJArsjTP1ipoOhwCsA/8PDNcjJOuT+0WX+nExHjP0ZIO143Wec/xMqVSCcB9z8AAAAAAAAAQAAAAAAAAABA\",\"dtype\":\"float64\",\"order\":\"little\",\"shape\":[12]},\"eta\":{\"__ndarray__\":\"sh2vYK1i5D9bTL6GwC3gP8BbBBwOaK8/aF4VYC7owj+O+m0MlDroP4Dp2ixa49o/VmxQiawT1z849iEzr066P/BIIxymZ+M/jdrADhcX0j8AAAAAAADwPwAAAAAAAJA8\",\"dtype\":\"float64\",\"order\":\"little\",\"shape\":[12]},\"index\":[11,10,9,8,6,7,5,4,3,2,1,0],\"max_depth\":{\"__ndarray__\":\"AAAAAAAAIkAAAAAAAADwPwAAAAAAABhAAAAAAAAAJEAAAAAAAAAgQAAAAAAAACBAAAAAAAAAAEAAAAAAAAAYQAAAAAAAABhAAAAAAAAAGEAAAAAAAAAYQAAAAAAAABhA\",\"dtype\":\"float64\",\"order\":\"little\",\"shape\":[12]},\"min_child_weight\":{\"__ndarray__\":\"tx6llTzuFUBw5MMkSf0NQDDT0vMa/ANAcfLzHVqRB0DQGm5Ph+32P78ZZxvMER9AEtIPaN/2/j9xS1C+8qMHQASaq/IvJQpAQpuMd3IFHkDobPJ75U8CQC5EB1rUBRpA\",\"dtype\":\"float64\",\"order\":\"little\",\"shape\":[12]},\"num_round\":{\"__ndarray__\":\"AAAAAACgeEAAAAAAAAB6QAAAAAAAyIdAAAAAAADoi0AAAAAAACBmQAAAAAAAWIJAAAAAAACgf0AAAAAAABB5QAAAAAAAgGlAAAAAAAAQekAAAAAAALCDQAAAAAAAoGBA\",\"dtype\":\"float64\",\"order\":\"little\",\"shape\":[12]}},\"selected\":{\"id\":\"1515\"},\"selection_policy\":{\"id\":\"1514\"}},\"id\":\"1421\",\"type\":\"ColumnDataSource\"},{\"attributes\":{},\"id\":\"1402\",\"type\":\"BasicTicker\"},{\"attributes\":{\"axis\":{\"id\":\"1401\"},\"coordinates\":null,\"dimension\":1,\"group\":null,\"ticker\":null},\"id\":\"1404\",\"type\":\"Grid\"},{\"attributes\":{\"bottom_units\":\"screen\",\"coordinates\":null,\"fill_alpha\":0.5,\"fill_color\":\"lightgrey\",\"group\":null,\"left_units\":\"screen\",\"level\":\"overlay\",\"line_alpha\":1.0,\"line_color\":\"black\",\"line_dash\":[4,4],\"line_width\":2,\"right_units\":\"screen\",\"syncable\":false,\"top_units\":\"screen\"},\"id\":\"1315\",\"type\":\"BoxAnnotation\"},{\"attributes\":{\"source\":{\"id\":\"1421\"}},\"id\":\"1427\",\"type\":\"CDSView\"},{\"attributes\":{\"axis_label\":\"validation:auc\",\"coordinates\":null,\"formatter\":{\"id\":\"1489\"},\"group\":null,\"major_label_policy\":{\"id\":\"1490\"},\"ticker\":{\"id\":\"1402\"}},\"id\":\"1401\",\"type\":\"LinearAxis\"},{\"attributes\":{\"line_color\":\"green\",\"line_width\":2,\"x\":{\"field\":\"x\"},\"y\":{\"field\":\"y\"}},\"id\":\"1333\",\"type\":\"Line\"},{\"attributes\":{},\"id\":\"1406\",\"type\":\"WheelZoomTool\"}],\"root_ids\":[\"1434\"]},\"title\":\"Bokeh Application\",\"version\":\"2.4.2\"}};\n",
       "  const render_items = [{\"docid\":\"2b42cfbf-6c91-4d1e-a09b-d7a7fbbf34f0\",\"root_ids\":[\"1434\"],\"roots\":{\"1434\":\"863cbd71-dcdf-4208-abf4-f82d6f1a6811\"}}];\n",
       "  root.Bokeh.embed.embed_items_notebook(docs_json, render_items);\n",
       "\n",
       "  }\n",
       "  if (root.Bokeh !== undefined) {\n",
       "    embed_document(root);\n",
       "  } else {\n",
       "    let attempts = 0;\n",
       "    const timer = setInterval(function(root) {\n",
       "      if (root.Bokeh !== undefined) {\n",
       "        clearInterval(timer);\n",
       "        embed_document(root);\n",
       "      } else {\n",
       "        attempts++;\n",
       "        if (attempts > 100) {\n",
       "          clearInterval(timer);\n",
       "          console.log(\"Bokeh: ERROR: Unable to run BokehJS code because BokehJS library is missing\");\n",
       "        }\n",
       "      }\n",
       "    }, 10, root)\n",
       "  }\n",
       "})(window);"
      ],
      "application/vnd.bokehjs_exec.v0+json": ""
     },
     "metadata": {
      "application/vnd.bokehjs_exec.v0+json": {
       "id": "1434"
      }
     },
     "output_type": "display_data"
    }
   ],
   "source": [
    "# Plot each of the hyperparameter ranges with the objective metric results\n",
    "ranges = tuner.tuning_ranges\n",
    "figures = []\n",
    "for hp_name, hp_range in ranges.items():\n",
    "    categorical_args = {}\n",
    "\n",
    "    x = df[hp_name].to_numpy()\n",
    "    y = df['FinalObjectiveValue'].to_numpy()\n",
    "\n",
    "    # determine line of best fit\n",
    "    par = np.polyfit(x, y, 1, full=True)\n",
    "    slope=par[0][0]\n",
    "    intercept=par[0][1]\n",
    "    y_predicted = [slope*i + intercept  for i in x]        \n",
    "\n",
    "\n",
    "    p = figure(\n",
    "        width=500,\n",
    "        height=500,\n",
    "        title=\"Objective vs %s\" % hp_name,\n",
    "        x_axis_label=hp_name,\n",
    "        y_axis_label=objective_name,\n",
    "        **categorical_args,\n",
    "    )\n",
    "\n",
    "    # add hover tool \n",
    "    hover = HoverTool(tooltips=[\n",
    "        ('FinalObjectiveValue', '@y'),\n",
    "        (hp_name, '@x')\n",
    "    ]) \n",
    "    p.add_tools(hover) \n",
    "\n",
    "    p.circle(source=df, x=hp_name, y=\"FinalObjectiveValue\")\n",
    "    p.line(x,y_predicted,color='green', line_width=2)\n",
    "    figures.append(p)\n",
    "\n",
    "\n",
    "show(bokeh.layouts.Column(*figures))"
   ]
  },
  {
   "cell_type": "markdown",
   "metadata": {},
   "source": [
    "Take a moment to view the charts. Which hyperparameters have a positive correlation with the objective? You can estimate which graph has a positive correlation by using a line of best fit through the points in the graph. If the line of best fit slopes up, the hyperparameter and objective have a positive correlation. In these graphs, a line of best fit has been added. \n",
    "\n",
    "The hyperparameters do not operate in isolation for these tuning jobs. Each tuning job has adjusted several hyperparameters at the same time. You can isolate hyperparameters to view the direct correlation with the target, but remember that each tuning job's result is a combination of several hyperparameter adjustments.\n",
    "\n",
    "### Task 2.6: View the model artifacts\n",
    "\n",
    "SageMaker stores the model artifacts in your S3 bucket. To find the location of one of the model artifact, follow these steps:\n",
    "\n",
    "1. Choose the bucket icon from the left menu bar.\n",
    "\n",
    "1. In the list of buckets, open the Amazon S3 bucket that contains **labdatabucket** in its name.\n",
    "\n",
    "1. Navigate to any one of the the **scripts/data/output/lab-3-job-.../output** subfolders. \n",
    "\n",
    "You see a model artifact **model.tar.gz** in the subfolder. This is one of the models that you created with your SageMaker Estimator by calling the tuner.fit() method."
   ]
  },
  {
   "cell_type": "markdown",
   "metadata": {},
   "source": [
    "\n",
    "### Cleanup\n",
    "\n",
    "You have completed this notebook. To move to the next part of the lab, do the following:\n",
    "\n",
    "- Close this notebook file.\n",
    "- Return to the lab session and continue with the **Conclusion**."
   ]
  }
 ],
 "metadata": {
  "availableInstances": [
   {
    "_defaultOrder": 0,
    "_isFastLaunch": true,
    "category": "General purpose",
    "gpuNum": 0,
    "hideHardwareSpecs": false,
    "memoryGiB": 4,
    "name": "ml.t3.medium",
    "vcpuNum": 2
   },
   {
    "_defaultOrder": 1,
    "_isFastLaunch": false,
    "category": "General purpose",
    "gpuNum": 0,
    "hideHardwareSpecs": false,
    "memoryGiB": 8,
    "name": "ml.t3.large",
    "vcpuNum": 2
   },
   {
    "_defaultOrder": 2,
    "_isFastLaunch": false,
    "category": "General purpose",
    "gpuNum": 0,
    "hideHardwareSpecs": false,
    "memoryGiB": 16,
    "name": "ml.t3.xlarge",
    "vcpuNum": 4
   },
   {
    "_defaultOrder": 3,
    "_isFastLaunch": false,
    "category": "General purpose",
    "gpuNum": 0,
    "hideHardwareSpecs": false,
    "memoryGiB": 32,
    "name": "ml.t3.2xlarge",
    "vcpuNum": 8
   },
   {
    "_defaultOrder": 4,
    "_isFastLaunch": true,
    "category": "General purpose",
    "gpuNum": 0,
    "hideHardwareSpecs": false,
    "memoryGiB": 8,
    "name": "ml.m5.large",
    "vcpuNum": 2
   },
   {
    "_defaultOrder": 5,
    "_isFastLaunch": false,
    "category": "General purpose",
    "gpuNum": 0,
    "hideHardwareSpecs": false,
    "memoryGiB": 16,
    "name": "ml.m5.xlarge",
    "vcpuNum": 4
   },
   {
    "_defaultOrder": 6,
    "_isFastLaunch": false,
    "category": "General purpose",
    "gpuNum": 0,
    "hideHardwareSpecs": false,
    "memoryGiB": 32,
    "name": "ml.m5.2xlarge",
    "vcpuNum": 8
   },
   {
    "_defaultOrder": 7,
    "_isFastLaunch": false,
    "category": "General purpose",
    "gpuNum": 0,
    "hideHardwareSpecs": false,
    "memoryGiB": 64,
    "name": "ml.m5.4xlarge",
    "vcpuNum": 16
   },
   {
    "_defaultOrder": 8,
    "_isFastLaunch": false,
    "category": "General purpose",
    "gpuNum": 0,
    "hideHardwareSpecs": false,
    "memoryGiB": 128,
    "name": "ml.m5.8xlarge",
    "vcpuNum": 32
   },
   {
    "_defaultOrder": 9,
    "_isFastLaunch": false,
    "category": "General purpose",
    "gpuNum": 0,
    "hideHardwareSpecs": false,
    "memoryGiB": 192,
    "name": "ml.m5.12xlarge",
    "vcpuNum": 48
   },
   {
    "_defaultOrder": 10,
    "_isFastLaunch": false,
    "category": "General purpose",
    "gpuNum": 0,
    "hideHardwareSpecs": false,
    "memoryGiB": 256,
    "name": "ml.m5.16xlarge",
    "vcpuNum": 64
   },
   {
    "_defaultOrder": 11,
    "_isFastLaunch": false,
    "category": "General purpose",
    "gpuNum": 0,
    "hideHardwareSpecs": false,
    "memoryGiB": 384,
    "name": "ml.m5.24xlarge",
    "vcpuNum": 96
   },
   {
    "_defaultOrder": 12,
    "_isFastLaunch": false,
    "category": "General purpose",
    "gpuNum": 0,
    "hideHardwareSpecs": false,
    "memoryGiB": 8,
    "name": "ml.m5d.large",
    "vcpuNum": 2
   },
   {
    "_defaultOrder": 13,
    "_isFastLaunch": false,
    "category": "General purpose",
    "gpuNum": 0,
    "hideHardwareSpecs": false,
    "memoryGiB": 16,
    "name": "ml.m5d.xlarge",
    "vcpuNum": 4
   },
   {
    "_defaultOrder": 14,
    "_isFastLaunch": false,
    "category": "General purpose",
    "gpuNum": 0,
    "hideHardwareSpecs": false,
    "memoryGiB": 32,
    "name": "ml.m5d.2xlarge",
    "vcpuNum": 8
   },
   {
    "_defaultOrder": 15,
    "_isFastLaunch": false,
    "category": "General purpose",
    "gpuNum": 0,
    "hideHardwareSpecs": false,
    "memoryGiB": 64,
    "name": "ml.m5d.4xlarge",
    "vcpuNum": 16
   },
   {
    "_defaultOrder": 16,
    "_isFastLaunch": false,
    "category": "General purpose",
    "gpuNum": 0,
    "hideHardwareSpecs": false,
    "memoryGiB": 128,
    "name": "ml.m5d.8xlarge",
    "vcpuNum": 32
   },
   {
    "_defaultOrder": 17,
    "_isFastLaunch": false,
    "category": "General purpose",
    "gpuNum": 0,
    "hideHardwareSpecs": false,
    "memoryGiB": 192,
    "name": "ml.m5d.12xlarge",
    "vcpuNum": 48
   },
   {
    "_defaultOrder": 18,
    "_isFastLaunch": false,
    "category": "General purpose",
    "gpuNum": 0,
    "hideHardwareSpecs": false,
    "memoryGiB": 256,
    "name": "ml.m5d.16xlarge",
    "vcpuNum": 64
   },
   {
    "_defaultOrder": 19,
    "_isFastLaunch": false,
    "category": "General purpose",
    "gpuNum": 0,
    "hideHardwareSpecs": false,
    "memoryGiB": 384,
    "name": "ml.m5d.24xlarge",
    "vcpuNum": 96
   },
   {
    "_defaultOrder": 20,
    "_isFastLaunch": false,
    "category": "General purpose",
    "gpuNum": 0,
    "hideHardwareSpecs": true,
    "memoryGiB": 0,
    "name": "ml.geospatial.interactive",
    "supportedImageNames": [
     "sagemaker-geospatial-v1-0"
    ],
    "vcpuNum": 0
   },
   {
    "_defaultOrder": 21,
    "_isFastLaunch": true,
    "category": "Compute optimized",
    "gpuNum": 0,
    "hideHardwareSpecs": false,
    "memoryGiB": 4,
    "name": "ml.c5.large",
    "vcpuNum": 2
   },
   {
    "_defaultOrder": 22,
    "_isFastLaunch": false,
    "category": "Compute optimized",
    "gpuNum": 0,
    "hideHardwareSpecs": false,
    "memoryGiB": 8,
    "name": "ml.c5.xlarge",
    "vcpuNum": 4
   },
   {
    "_defaultOrder": 23,
    "_isFastLaunch": false,
    "category": "Compute optimized",
    "gpuNum": 0,
    "hideHardwareSpecs": false,
    "memoryGiB": 16,
    "name": "ml.c5.2xlarge",
    "vcpuNum": 8
   },
   {
    "_defaultOrder": 24,
    "_isFastLaunch": false,
    "category": "Compute optimized",
    "gpuNum": 0,
    "hideHardwareSpecs": false,
    "memoryGiB": 32,
    "name": "ml.c5.4xlarge",
    "vcpuNum": 16
   },
   {
    "_defaultOrder": 25,
    "_isFastLaunch": false,
    "category": "Compute optimized",
    "gpuNum": 0,
    "hideHardwareSpecs": false,
    "memoryGiB": 72,
    "name": "ml.c5.9xlarge",
    "vcpuNum": 36
   },
   {
    "_defaultOrder": 26,
    "_isFastLaunch": false,
    "category": "Compute optimized",
    "gpuNum": 0,
    "hideHardwareSpecs": false,
    "memoryGiB": 96,
    "name": "ml.c5.12xlarge",
    "vcpuNum": 48
   },
   {
    "_defaultOrder": 27,
    "_isFastLaunch": false,
    "category": "Compute optimized",
    "gpuNum": 0,
    "hideHardwareSpecs": false,
    "memoryGiB": 144,
    "name": "ml.c5.18xlarge",
    "vcpuNum": 72
   },
   {
    "_defaultOrder": 28,
    "_isFastLaunch": false,
    "category": "Compute optimized",
    "gpuNum": 0,
    "hideHardwareSpecs": false,
    "memoryGiB": 192,
    "name": "ml.c5.24xlarge",
    "vcpuNum": 96
   },
   {
    "_defaultOrder": 29,
    "_isFastLaunch": true,
    "category": "Accelerated computing",
    "gpuNum": 1,
    "hideHardwareSpecs": false,
    "memoryGiB": 16,
    "name": "ml.g4dn.xlarge",
    "vcpuNum": 4
   },
   {
    "_defaultOrder": 30,
    "_isFastLaunch": false,
    "category": "Accelerated computing",
    "gpuNum": 1,
    "hideHardwareSpecs": false,
    "memoryGiB": 32,
    "name": "ml.g4dn.2xlarge",
    "vcpuNum": 8
   },
   {
    "_defaultOrder": 31,
    "_isFastLaunch": false,
    "category": "Accelerated computing",
    "gpuNum": 1,
    "hideHardwareSpecs": false,
    "memoryGiB": 64,
    "name": "ml.g4dn.4xlarge",
    "vcpuNum": 16
   },
   {
    "_defaultOrder": 32,
    "_isFastLaunch": false,
    "category": "Accelerated computing",
    "gpuNum": 1,
    "hideHardwareSpecs": false,
    "memoryGiB": 128,
    "name": "ml.g4dn.8xlarge",
    "vcpuNum": 32
   },
   {
    "_defaultOrder": 33,
    "_isFastLaunch": false,
    "category": "Accelerated computing",
    "gpuNum": 4,
    "hideHardwareSpecs": false,
    "memoryGiB": 192,
    "name": "ml.g4dn.12xlarge",
    "vcpuNum": 48
   },
   {
    "_defaultOrder": 34,
    "_isFastLaunch": false,
    "category": "Accelerated computing",
    "gpuNum": 1,
    "hideHardwareSpecs": false,
    "memoryGiB": 256,
    "name": "ml.g4dn.16xlarge",
    "vcpuNum": 64
   },
   {
    "_defaultOrder": 35,
    "_isFastLaunch": false,
    "category": "Accelerated computing",
    "gpuNum": 1,
    "hideHardwareSpecs": false,
    "memoryGiB": 61,
    "name": "ml.p3.2xlarge",
    "vcpuNum": 8
   },
   {
    "_defaultOrder": 36,
    "_isFastLaunch": false,
    "category": "Accelerated computing",
    "gpuNum": 4,
    "hideHardwareSpecs": false,
    "memoryGiB": 244,
    "name": "ml.p3.8xlarge",
    "vcpuNum": 32
   },
   {
    "_defaultOrder": 37,
    "_isFastLaunch": false,
    "category": "Accelerated computing",
    "gpuNum": 8,
    "hideHardwareSpecs": false,
    "memoryGiB": 488,
    "name": "ml.p3.16xlarge",
    "vcpuNum": 64
   },
   {
    "_defaultOrder": 38,
    "_isFastLaunch": false,
    "category": "Accelerated computing",
    "gpuNum": 8,
    "hideHardwareSpecs": false,
    "memoryGiB": 768,
    "name": "ml.p3dn.24xlarge",
    "vcpuNum": 96
   },
   {
    "_defaultOrder": 39,
    "_isFastLaunch": false,
    "category": "Memory Optimized",
    "gpuNum": 0,
    "hideHardwareSpecs": false,
    "memoryGiB": 16,
    "name": "ml.r5.large",
    "vcpuNum": 2
   },
   {
    "_defaultOrder": 40,
    "_isFastLaunch": false,
    "category": "Memory Optimized",
    "gpuNum": 0,
    "hideHardwareSpecs": false,
    "memoryGiB": 32,
    "name": "ml.r5.xlarge",
    "vcpuNum": 4
   },
   {
    "_defaultOrder": 41,
    "_isFastLaunch": false,
    "category": "Memory Optimized",
    "gpuNum": 0,
    "hideHardwareSpecs": false,
    "memoryGiB": 64,
    "name": "ml.r5.2xlarge",
    "vcpuNum": 8
   },
   {
    "_defaultOrder": 42,
    "_isFastLaunch": false,
    "category": "Memory Optimized",
    "gpuNum": 0,
    "hideHardwareSpecs": false,
    "memoryGiB": 128,
    "name": "ml.r5.4xlarge",
    "vcpuNum": 16
   },
   {
    "_defaultOrder": 43,
    "_isFastLaunch": false,
    "category": "Memory Optimized",
    "gpuNum": 0,
    "hideHardwareSpecs": false,
    "memoryGiB": 256,
    "name": "ml.r5.8xlarge",
    "vcpuNum": 32
   },
   {
    "_defaultOrder": 44,
    "_isFastLaunch": false,
    "category": "Memory Optimized",
    "gpuNum": 0,
    "hideHardwareSpecs": false,
    "memoryGiB": 384,
    "name": "ml.r5.12xlarge",
    "vcpuNum": 48
   },
   {
    "_defaultOrder": 45,
    "_isFastLaunch": false,
    "category": "Memory Optimized",
    "gpuNum": 0,
    "hideHardwareSpecs": false,
    "memoryGiB": 512,
    "name": "ml.r5.16xlarge",
    "vcpuNum": 64
   },
   {
    "_defaultOrder": 46,
    "_isFastLaunch": false,
    "category": "Memory Optimized",
    "gpuNum": 0,
    "hideHardwareSpecs": false,
    "memoryGiB": 768,
    "name": "ml.r5.24xlarge",
    "vcpuNum": 96
   },
   {
    "_defaultOrder": 47,
    "_isFastLaunch": false,
    "category": "Accelerated computing",
    "gpuNum": 1,
    "hideHardwareSpecs": false,
    "memoryGiB": 16,
    "name": "ml.g5.xlarge",
    "vcpuNum": 4
   },
   {
    "_defaultOrder": 48,
    "_isFastLaunch": false,
    "category": "Accelerated computing",
    "gpuNum": 1,
    "hideHardwareSpecs": false,
    "memoryGiB": 32,
    "name": "ml.g5.2xlarge",
    "vcpuNum": 8
   },
   {
    "_defaultOrder": 49,
    "_isFastLaunch": false,
    "category": "Accelerated computing",
    "gpuNum": 1,
    "hideHardwareSpecs": false,
    "memoryGiB": 64,
    "name": "ml.g5.4xlarge",
    "vcpuNum": 16
   },
   {
    "_defaultOrder": 50,
    "_isFastLaunch": false,
    "category": "Accelerated computing",
    "gpuNum": 1,
    "hideHardwareSpecs": false,
    "memoryGiB": 128,
    "name": "ml.g5.8xlarge",
    "vcpuNum": 32
   },
   {
    "_defaultOrder": 51,
    "_isFastLaunch": false,
    "category": "Accelerated computing",
    "gpuNum": 1,
    "hideHardwareSpecs": false,
    "memoryGiB": 256,
    "name": "ml.g5.16xlarge",
    "vcpuNum": 64
   },
   {
    "_defaultOrder": 52,
    "_isFastLaunch": false,
    "category": "Accelerated computing",
    "gpuNum": 4,
    "hideHardwareSpecs": false,
    "memoryGiB": 192,
    "name": "ml.g5.12xlarge",
    "vcpuNum": 48
   },
   {
    "_defaultOrder": 53,
    "_isFastLaunch": false,
    "category": "Accelerated computing",
    "gpuNum": 4,
    "hideHardwareSpecs": false,
    "memoryGiB": 384,
    "name": "ml.g5.24xlarge",
    "vcpuNum": 96
   },
   {
    "_defaultOrder": 54,
    "_isFastLaunch": false,
    "category": "Accelerated computing",
    "gpuNum": 8,
    "hideHardwareSpecs": false,
    "memoryGiB": 768,
    "name": "ml.g5.48xlarge",
    "vcpuNum": 192
   },
   {
    "_defaultOrder": 55,
    "_isFastLaunch": false,
    "category": "Accelerated computing",
    "gpuNum": 8,
    "hideHardwareSpecs": false,
    "memoryGiB": 1152,
    "name": "ml.p4d.24xlarge",
    "vcpuNum": 96
   },
   {
    "_defaultOrder": 56,
    "_isFastLaunch": false,
    "category": "Accelerated computing",
    "gpuNum": 8,
    "hideHardwareSpecs": false,
    "memoryGiB": 1152,
    "name": "ml.p4de.24xlarge",
    "vcpuNum": 96
   }
  ],
  "instance_type": "ml.t3.xlarge",
  "kernelspec": {
   "display_name": "Python 3 (ipykernel)",
   "language": "python",
   "name": "python3"
  },
  "language_info": {
   "codemirror_mode": {
    "name": "ipython",
    "version": 3
   },
   "file_extension": ".py",
   "mimetype": "text/x-python",
   "name": "python",
   "nbconvert_exporter": "python",
   "pygments_lexer": "ipython3",
   "version": "3.12.9"
  },
  "vscode": {
   "interpreter": {
    "hash": "741de909edea0d5644898c592544ed98bede62b404d20772e5c4abc3c2f12566"
   }
  }
 },
 "nbformat": 4,
 "nbformat_minor": 4
}
